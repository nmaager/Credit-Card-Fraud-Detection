{
 "cells": [
  {
   "cell_type": "markdown",
   "metadata": {
    "Collapsed": "false"
   },
   "source": [
    "# Credit Card Fraud Prediction Models\n",
    "\n",
    "In this kernel we will evaluate different classification models and use different methods for handling imbalanced data.\n",
    "\n",
    " 1. using class weights in our classification model\n",
    " 2. using random undersampling during training"
   ]
  },
  {
   "cell_type": "markdown",
   "metadata": {
    "Collapsed": "false"
   },
   "source": [
    "### Imports and helper functions"
   ]
  },
  {
   "cell_type": "code",
   "execution_count": 1,
   "metadata": {
    "Collapsed": "false",
    "jupyter": {
     "source_hidden": true
    }
   },
   "outputs": [],
   "source": [
    "import numpy as np\n",
    "import matplotlib.pyplot as plt\n",
    "import seaborn as sns\n",
    "import pandas as pd\n",
    "pd.set_option('display.max_columns', 500)\n",
    "from tqdm import tqdm\n",
    "\n",
    "from sklearn.utils import shuffle\n",
    "from sklearn.model_selection import train_test_split, cross_val_score, StratifiedKFold\n",
    "from sklearn.preprocessing import StandardScaler, RobustScaler\n",
    "\n",
    "from sklearn.metrics import precision_recall_curve, average_precision_score, classification_report, confusion_matrix, f1_score, recall_score, precision_score\n",
    "\n",
    "from sklearn.linear_model import LogisticRegression\n"
   ]
  },
  {
   "cell_type": "code",
   "execution_count": 2,
   "metadata": {
    "Collapsed": "false",
    "jupyter": {
     "source_hidden": true
    }
   },
   "outputs": [],
   "source": [
    "def draw_pr_curve(y_true, scores):\n",
    "    \"\"\"\n",
    "    draws precision-recall curves\n",
    "    \"\"\"\n",
    "    prec, recall, thresholds = precision_recall_curve(y_true, scores)\n",
    "    ap = average_precision_score(y_true, scores)\n",
    "    plt.figure()\n",
    "    lw = 2\n",
    "    plt.plot(prec, recall, color='darkorange',\n",
    "             lw=lw, label='Average Precision (ap = %0.2f)' % ap)\n",
    "    plt.plot([0, 1], [1, 0], color='navy', lw=lw, linestyle='--')\n",
    "    plt.xlim([0.0, 1.0])\n",
    "    plt.ylim([0.0, 1.05])\n",
    "    plt.xlabel('Recall')\n",
    "    plt.ylabel('Precision')\n",
    "    plt.title('Precision-Recall curve')\n",
    "    plt.legend(loc=\"lower left\")\n",
    "    plt.show()\n",
    "\n",
    "def draw_confusion_matrix(y_true, pred, normalize=True, print_report=True, title='Confusion Matrix', cmap=plt.cm.Blues):\n",
    "    \"\"\"\n",
    "    draws confusion matrices and print a classification report\n",
    "    \"\"\"\n",
    "    cm = confusion_matrix(y_true, pred)\n",
    "    if normalize:\n",
    "        cm = cm.astype(\"float\") / cm.sum(axis=1)[:, None]\n",
    "    \n",
    "    sns.heatmap(cm, cmap='coolwarm_r', linewidths=0.5, annot=True)\n",
    "    plt.title('Confusion Matrix')\n",
    "    plt.ylabel('Real Classes')\n",
    "    plt.xlabel('Predicted Classes')\n",
    "    plt.show()\n",
    "    \n",
    "    if print_report:\n",
    "        print('---Classification Report---')\n",
    "        print(classification_report(y_true, pred)) "
   ]
  },
  {
   "cell_type": "markdown",
   "metadata": {
    "Collapsed": "false"
   },
   "source": [
    "### Reading in the data"
   ]
  },
  {
   "cell_type": "code",
   "execution_count": 3,
   "metadata": {
    "Collapsed": "false"
   },
   "outputs": [],
   "source": [
    "df = pd.read_csv(\"Data/creditcard.csv\")\n",
    "#df.head()"
   ]
  },
  {
   "cell_type": "markdown",
   "metadata": {
    "Collapsed": "false"
   },
   "source": [
    "## Logistic Regression"
   ]
  },
  {
   "cell_type": "markdown",
   "metadata": {
    "Collapsed": "false"
   },
   "source": [
    "### Data preprocessing\n",
    "\n",
    "For the \"Time\" feature we replace \"elapsed time\" with the \"TimeTag\" feature (EDA) and standardize our features."
   ]
  },
  {
   "cell_type": "code",
   "execution_count": 4,
   "metadata": {
    "Collapsed": "false"
   },
   "outputs": [],
   "source": [
    "X = df.drop(columns=[\"Class\"])\n",
    "y = df.Class.values\n",
    "\n",
    "# use TimeTag (from EDA) instead of normal time\n",
    "TimeTag = (X[\"Time\"]/3600)%24\n",
    "X[\"Time\"] = np.array((TimeTag < 6) , dtype=np.int8) \n",
    "\n",
    "X = X.values"
   ]
  },
  {
   "cell_type": "markdown",
   "metadata": {
    "Collapsed": "false"
   },
   "source": [
    "### Class weights\n",
    "\n",
    "One straight forward way to handle class imbalances is the use of class weight.\n",
    "\n",
    "To determine the right class weights we will use cross validation.\n",
    "\n",
    "Since the data is heavily imbalanced we use average precision (ap) or the area under the Precision-Recall curve as classification metric as well as f1 score."
   ]
  },
  {
   "cell_type": "code",
   "execution_count": 5,
   "metadata": {
    "Collapsed": "false",
    "collapsed": true,
    "jupyter": {
     "outputs_hidden": true
    }
   },
   "outputs": [
    {
     "name": "stderr",
     "output_type": "stream",
     "text": [
      "  0%|                                                                                            | 0/5 [00:00<?, ?it/s]\n",
      "0it [00:00, ?it/s]\u001b[A\n",
      "1it [00:05,  5.09s/it]\u001b[A\n",
      "2it [00:11,  5.47s/it]\u001b[A\n",
      "3it [00:18,  5.80s/it]\u001b[A\n",
      "4it [00:25,  6.25s/it]\u001b[A\n",
      "5it [00:31,  6.22s/it]\u001b[A\n",
      " 20%|████████████████▊                                                                   | 1/5 [00:31<02:04, 31.11s/it]\n",
      "0it [00:00, ?it/s]\u001b[A\n",
      "1it [00:03,  3.75s/it]\u001b[A\n",
      "2it [00:08,  3.93s/it]\u001b[A\n",
      "3it [00:12,  4.07s/it]\u001b[A\n",
      "4it [00:16,  4.03s/it]\u001b[A\n",
      "5it [00:20,  4.05s/it]\u001b[A\n",
      " 40%|█████████████████████████████████▌                                                  | 2/5 [00:51<01:23, 27.85s/it]\n",
      "0it [00:00, ?it/s]\u001b[A\n",
      "1it [00:04,  4.02s/it]\u001b[A\n",
      "2it [00:08,  4.06s/it]\u001b[A\n",
      "3it [00:12,  4.04s/it]\u001b[A\n",
      "4it [00:15,  3.94s/it]\u001b[A\n",
      "5it [00:19,  3.86s/it]\u001b[A\n",
      " 60%|██████████████████████████████████████████████████▍                                 | 3/5 [01:10<00:50, 25.29s/it]\n",
      "0it [00:00, ?it/s]\u001b[A\n",
      "1it [00:03,  3.07s/it]\u001b[A\n",
      "2it [00:06,  3.22s/it]\u001b[A\n",
      "3it [00:10,  3.53s/it]\u001b[A\n",
      "4it [00:14,  3.69s/it]\u001b[A\n",
      "5it [00:18,  3.80s/it]\u001b[A\n",
      " 80%|███████████████████████████████████████████████████████████████████▏                | 4/5 [01:29<00:23, 23.41s/it]\n",
      "0it [00:00, ?it/s]\u001b[A\n",
      "1it [00:04,  4.28s/it]\u001b[A\n",
      "2it [00:08,  4.29s/it]\u001b[A\n",
      "3it [00:12,  4.26s/it]\u001b[A\n",
      "4it [00:16,  4.13s/it]\u001b[A\n",
      "5it [00:20,  4.14s/it]\u001b[A\n",
      "100%|████████████████████████████████████████████████████████████████████████████████████| 5/5 [01:50<00:00, 22.08s/it]\n"
     ]
    }
   ],
   "source": [
    "skf = StratifiedKFold(n_splits=5, shuffle=True, random_state=12)\n",
    "\n",
    "weights = [1, 10, 20, 50, 100]\n",
    "\n",
    "results_table = pd.DataFrame(index=range(len(weights)), columns=[\"class_weight\", \"mAP\", \"mF1-score\", \"mRecall\", \"mPrecision\", \"\", \"AP_Fold_1\",\"AP_Fold_2\",\"AP_Fold_3\",\"AP_Fold_4\",\"AP_Fold_5\"])\n",
    "results_table[\"class_weight\"] = weights\n",
    "\n",
    "for i, weight in enumerate(tqdm(weights)):\n",
    "    \n",
    "    APs = []\n",
    "    F_scores = []\n",
    "    Recall_scores = []\n",
    "    Precision_scores = []\n",
    "        \n",
    "    for fold_nr, (train_index, test_index) in enumerate(tqdm(skf.split(X, y))):\n",
    "        \n",
    "        X_train, X_test = X[train_index], X[test_index]\n",
    "        y_train, y_test = y[train_index], y[test_index]\n",
    "        \n",
    "        model = LogisticRegression(class_weight={0:1,1:weight}, max_iter=250)\n",
    "        \n",
    "        # we use RobustScaler which uses median and interquartile range instead of mean and std  \n",
    "        scaler = RobustScaler()\n",
    "        scaler.fit(X_train)\n",
    "        \n",
    "        model.fit(scaler.transform(X_train), y_train)\n",
    "        \n",
    "        scores = model.predict_proba(scaler.transform(X_test))[:,1]\n",
    "        ap = average_precision_score(y_test, scores)\n",
    "        f_score = f1_score(y_test, scores > 0.5)\n",
    "        recall = recall_score(y_test, scores > 0.5)\n",
    "        precision = precision_score(y_test, scores > 0.5)\n",
    "        APs.append(ap)\n",
    "        F_scores.append(f_score)\n",
    "        Recall_scores.append(recall)\n",
    "        Precision_scores.append(precision)\n",
    "        #print(ap)\n",
    "        results_table.loc[i, (\"AP_Fold_\"+str(1+fold_nr))] = ap\n",
    "    \n",
    "    mAP = np.mean(APs)\n",
    "    mF1 = np.mean(F_scores)\n",
    "    mRecall = np.mean(Recall_scores)\n",
    "    mPrecision = np.mean(Precision_scores)\n",
    "    \n",
    "    results_table.loc[i,\"mAP\"] = mAP\n",
    "    results_table.loc[i,\"mF1-score\"] = mF1\n",
    "    results_table.loc[i,\"mRecall\"] = mRecall\n",
    "    results_table.loc[i,\"mPrecision\"] = mPrecision"
   ]
  },
  {
   "cell_type": "code",
   "execution_count": 6,
   "metadata": {
    "Collapsed": "false"
   },
   "outputs": [
    {
     "data": {
      "text/html": [
       "<div>\n",
       "<style scoped>\n",
       "    .dataframe tbody tr th:only-of-type {\n",
       "        vertical-align: middle;\n",
       "    }\n",
       "\n",
       "    .dataframe tbody tr th {\n",
       "        vertical-align: top;\n",
       "    }\n",
       "\n",
       "    .dataframe thead th {\n",
       "        text-align: right;\n",
       "    }\n",
       "</style>\n",
       "<table border=\"1\" class=\"dataframe\">\n",
       "  <thead>\n",
       "    <tr style=\"text-align: right;\">\n",
       "      <th></th>\n",
       "      <th>class_weight</th>\n",
       "      <th>mAP</th>\n",
       "      <th>mF1-score</th>\n",
       "      <th>mRecall</th>\n",
       "      <th>mPrecision</th>\n",
       "      <th></th>\n",
       "      <th>AP_Fold_1</th>\n",
       "      <th>AP_Fold_2</th>\n",
       "      <th>AP_Fold_3</th>\n",
       "      <th>AP_Fold_4</th>\n",
       "      <th>AP_Fold_5</th>\n",
       "    </tr>\n",
       "  </thead>\n",
       "  <tbody>\n",
       "    <tr>\n",
       "      <th>0</th>\n",
       "      <td>1</td>\n",
       "      <td>0.758725</td>\n",
       "      <td>0.719522</td>\n",
       "      <td>0.617934</td>\n",
       "      <td>0.864544</td>\n",
       "      <td>NaN</td>\n",
       "      <td>0.768639</td>\n",
       "      <td>0.80203</td>\n",
       "      <td>0.731441</td>\n",
       "      <td>0.711745</td>\n",
       "      <td>0.77977</td>\n",
       "    </tr>\n",
       "    <tr>\n",
       "      <th>1</th>\n",
       "      <td>10</td>\n",
       "      <td>0.760963</td>\n",
       "      <td>0.787416</td>\n",
       "      <td>0.814945</td>\n",
       "      <td>0.762263</td>\n",
       "      <td>NaN</td>\n",
       "      <td>0.782821</td>\n",
       "      <td>0.812177</td>\n",
       "      <td>0.732997</td>\n",
       "      <td>0.701199</td>\n",
       "      <td>0.775619</td>\n",
       "    </tr>\n",
       "    <tr>\n",
       "      <th>2</th>\n",
       "      <td>20</td>\n",
       "      <td>0.756894</td>\n",
       "      <td>0.741184</td>\n",
       "      <td>0.82717</td>\n",
       "      <td>0.67239</td>\n",
       "      <td>NaN</td>\n",
       "      <td>0.779568</td>\n",
       "      <td>0.808477</td>\n",
       "      <td>0.727578</td>\n",
       "      <td>0.696755</td>\n",
       "      <td>0.772091</td>\n",
       "    </tr>\n",
       "    <tr>\n",
       "      <th>3</th>\n",
       "      <td>50</td>\n",
       "      <td>0.75216</td>\n",
       "      <td>0.625587</td>\n",
       "      <td>0.851515</td>\n",
       "      <td>0.495276</td>\n",
       "      <td>NaN</td>\n",
       "      <td>0.77306</td>\n",
       "      <td>0.803118</td>\n",
       "      <td>0.72492</td>\n",
       "      <td>0.691362</td>\n",
       "      <td>0.76834</td>\n",
       "    </tr>\n",
       "    <tr>\n",
       "      <th>4</th>\n",
       "      <td>100</td>\n",
       "      <td>0.749437</td>\n",
       "      <td>0.424009</td>\n",
       "      <td>0.86576</td>\n",
       "      <td>0.28134</td>\n",
       "      <td>NaN</td>\n",
       "      <td>0.76811</td>\n",
       "      <td>0.796274</td>\n",
       "      <td>0.728854</td>\n",
       "      <td>0.685315</td>\n",
       "      <td>0.768631</td>\n",
       "    </tr>\n",
       "  </tbody>\n",
       "</table>\n",
       "</div>"
      ],
      "text/plain": [
       "   class_weight       mAP mF1-score   mRecall mPrecision      AP_Fold_1  \\\n",
       "0             1  0.758725  0.719522  0.617934   0.864544  NaN  0.768639   \n",
       "1            10  0.760963  0.787416  0.814945   0.762263  NaN  0.782821   \n",
       "2            20  0.756894  0.741184   0.82717    0.67239  NaN  0.779568   \n",
       "3            50   0.75216  0.625587  0.851515   0.495276  NaN   0.77306   \n",
       "4           100  0.749437  0.424009   0.86576    0.28134  NaN   0.76811   \n",
       "\n",
       "  AP_Fold_2 AP_Fold_3 AP_Fold_4 AP_Fold_5  \n",
       "0   0.80203  0.731441  0.711745   0.77977  \n",
       "1  0.812177  0.732997  0.701199  0.775619  \n",
       "2  0.808477  0.727578  0.696755  0.772091  \n",
       "3  0.803118   0.72492  0.691362   0.76834  \n",
       "4  0.796274  0.728854  0.685315  0.768631  "
      ]
     },
     "execution_count": 6,
     "metadata": {},
     "output_type": "execute_result"
    }
   ],
   "source": [
    "results_table"
   ]
  },
  {
   "cell_type": "markdown",
   "metadata": {
    "Collapsed": "false"
   },
   "source": [
    "The class weight 10 performs best in cross_validation (regarding average precision).\n",
    "\n",
    "Let's take a closer look at the classifier at Fold 5 (where classification performance resembles the average the most)"
   ]
  },
  {
   "cell_type": "code",
   "execution_count": 7,
   "metadata": {
    "Collapsed": "false"
   },
   "outputs": [],
   "source": [
    "train_idx, test_idx = list(skf.split(X,y))[4]\n",
    "X_train, X_test = X[train_index], X[test_index]\n",
    "y_train, y_test = y[train_index], y[test_index]\n",
    "\n",
    "model = LogisticRegression(class_weight={0:1,1:10}, max_iter=250)\n",
    "\n",
    "scaler = RobustScaler()\n",
    "scaler.fit(X_train)\n",
    "\n",
    "model.fit(scaler.transform(X_train), y_train)\n",
    "\n",
    "scores = model.predict_proba(scaler.transform(X_test))[:,1]"
   ]
  },
  {
   "cell_type": "code",
   "execution_count": 8,
   "metadata": {
    "Collapsed": "false"
   },
   "outputs": [
    {
     "data": {
      "image/png": "[encoded data removed]",
      "text/plain": [
       "<Figure size 432x288 with 1 Axes>"
      ]
     },
     "metadata": {
      "needs_background": "light"
     },
     "output_type": "display_data"
    },
    {
     "data": {
      "image/png": "[encoded data removed]",
      "text/plain": [
       "<Figure size 432x288 with 2 Axes>"
      ]
     },
     "metadata": {
      "needs_background": "light"
     },
     "output_type": "display_data"
    },
    {
     "name": "stdout",
     "output_type": "stream",
     "text": [
      "---Classification Report---\n",
      "              precision    recall  f1-score   support\n",
      "\n",
      "           0       1.00      1.00      1.00     56863\n",
      "           1       0.80      0.84      0.82        98\n",
      "\n",
      "    accuracy                           1.00     56961\n",
      "   macro avg       0.90      0.92      0.91     56961\n",
      "weighted avg       1.00      1.00      1.00     56961\n",
      "\n"
     ]
    }
   ],
   "source": [
    "draw_pr_curve(y_test, scores)\n",
    "draw_confusion_matrix(y_test, scores > 0.5)"
   ]
  },
  {
   "cell_type": "markdown",
   "metadata": {
    "Collapsed": "false"
   },
   "source": [
    "We can see that just tuning the class weights for logistic regression can give a good classifier.\n",
    "\n",
    "Note that in a real world fraud detector one would - depending on the cost of FPs and FNs - tune a classifier a bit more. <br>\n",
    "For example with the cost for False Negatives is very low, one would prefer a model with higher recall."
   ]
  },
  {
   "cell_type": "markdown",
   "metadata": {
    "Collapsed": "false"
   },
   "source": [
    "### Undersampling\n",
    "\n",
    "Another way to handle class imbalances is to randomly undersample the non-fraudulent samples in training."
   ]
  },
  {
   "cell_type": "code",
   "execution_count": 9,
   "metadata": {
    "Collapsed": "false"
   },
   "outputs": [],
   "source": [
    "def undersample(X, y, sample_factor=1, shuffled=True, random_state=None):\n",
    "    \"\"\"\n",
    "    Undersamples the non-fraudulent samples\n",
    "    \n",
    "    sample_factor gives the amount of non-fraud samples for every fraud sample\n",
    "    \"\"\"\n",
    "    X_fraud = X[y==1]\n",
    "    X_non_fraud = X[y==0]\n",
    "    \n",
    "    fraud_samples = len(X_fraud)\n",
    "    non_fraud_total = len(X_non_fraud)\n",
    "        \n",
    "    np.random.RandomState(seed=random_state)\n",
    "    non_fraud_indices = np.random.choice(non_fraud_total, int(fraud_samples*sample_factor), replace=False)\n",
    "    \n",
    "    X_no_undersampled = X_non_fraud[non_fraud_indices]\n",
    "    \n",
    "    X_undersampled = np.concatenate((X_fraud, X_no_undersampled))\n",
    "    y_undersampled = np.concatenate((np.ones(fraud_samples), np.zeros(len(X_no_undersampled))))\n",
    "    \n",
    "    if shuffled:\n",
    "        X_undersampled, y_undersampled = shuffle(X_undersampled, y_undersampled, random_state=random_state)\n",
    "    \n",
    "    return X_undersampled , y_undersampled  \n"
   ]
  },
  {
   "cell_type": "code",
   "execution_count": 14,
   "metadata": {
    "Collapsed": "false"
   },
   "outputs": [
    {
     "name": "stderr",
     "output_type": "stream",
     "text": [
      "100%|██████████████████████████████████████████████████████████████████████████████████| 10/10 [00:43<00:00,  4.34s/it]\n"
     ]
    }
   ],
   "source": [
    "skf = StratifiedKFold(n_splits=5, shuffle=True, random_state=12)\n",
    "\n",
    "sample_factors = [1, 1.5, 2, 4, 6, 9, 19, 39, 59, 79]\n",
    "\n",
    "results_table = pd.DataFrame(index=range(len(sample_factors)), columns=[\"sample_factors\", \"mAP\", \"mF1-score\", \"mRecall\", \"mPrecision\", \"AP_Fold_1\",\"AP_Fold_2\",\"AP_Fold_3\",\"AP_Fold_4\",\"AP_Fold_5\"])\n",
    "results_table[\"sample_factors\"] = sample_factors\n",
    "\n",
    "for i, factor in enumerate(tqdm(sample_factors)):\n",
    "    \n",
    "    APs = []\n",
    "    F_scores = []\n",
    "    Recall_scores = []\n",
    "    Precision_scores = []\n",
    "        \n",
    "    for fold_nr, (train_index, test_index) in enumerate(skf.split(X, y)):\n",
    "        \n",
    "        X_train, X_test = X[train_index], X[test_index]\n",
    "        y_train, y_test = y[train_index], y[test_index]\n",
    "        \n",
    "        model = LogisticRegression(max_iter=250)\n",
    "        \n",
    "        # we use RobustScaler which uses median and interquartile range instead of mean and std  \n",
    "        scaler = RobustScaler()\n",
    "        scaler.fit(X_train)\n",
    "        X_undersampled, y_undersampled = undersample(scaler.transform(X_train), y_train, sample_factor=factor, random_state=12)\n",
    "        \n",
    "        model.fit(X_undersampled, y_undersampled)\n",
    "        \n",
    "        scores = model.predict_proba(scaler.transform(X_test))[:,1]\n",
    "        ap = average_precision_score(y_test, scores)\n",
    "        f_score = f1_score(y_test, scores > 0.5)\n",
    "        recall = recall_score(y_test, scores > 0.5)\n",
    "        precision = precision_score(y_test, scores > 0.5)\n",
    "        APs.append(ap)\n",
    "        F_scores.append(f_score)\n",
    "        Recall_scores.append(recall)\n",
    "        Precision_scores.append(precision)\n",
    "        #print(ap)\n",
    "        results_table.loc[i, (\"AP_Fold_\"+str(1+fold_nr))] = ap\n",
    "    \n",
    "    mAP = np.mean(APs)\n",
    "    mF1 = np.mean(F_scores)\n",
    "    mRecall = np.mean(Recall_scores)\n",
    "    mPrecision = np.mean(Precision_scores)\n",
    "    \n",
    "    results_table.loc[i,\"mAP\"] = mAP\n",
    "    results_table.loc[i,\"mF1-score\"] = mF1\n",
    "    results_table.loc[i,\"mRecall\"] = mRecall\n",
    "    results_table.loc[i,\"mPrecision\"] = mPrecision"
   ]
  },
  {
   "cell_type": "code",
   "execution_count": 15,
   "metadata": {
    "Collapsed": "false"
   },
   "outputs": [
    {
     "data": {
      "text/html": [
       "<div>\n",
       "<style scoped>\n",
       "    .dataframe tbody tr th:only-of-type {\n",
       "        vertical-align: middle;\n",
       "    }\n",
       "\n",
       "    .dataframe tbody tr th {\n",
       "        vertical-align: top;\n",
       "    }\n",
       "\n",
       "    .dataframe thead th {\n",
       "        text-align: right;\n",
       "    }\n",
       "</style>\n",
       "<table border=\"1\" class=\"dataframe\">\n",
       "  <thead>\n",
       "    <tr style=\"text-align: right;\">\n",
       "      <th></th>\n",
       "      <th>sample_factors</th>\n",
       "      <th>mAP</th>\n",
       "      <th>mF1-score</th>\n",
       "      <th>mRecall</th>\n",
       "      <th>mPrecision</th>\n",
       "      <th>AP_Fold_1</th>\n",
       "      <th>AP_Fold_2</th>\n",
       "      <th>AP_Fold_3</th>\n",
       "      <th>AP_Fold_4</th>\n",
       "      <th>AP_Fold_5</th>\n",
       "    </tr>\n",
       "  </thead>\n",
       "  <tbody>\n",
       "    <tr>\n",
       "      <th>0</th>\n",
       "      <td>1.0</td>\n",
       "      <td>0.631922</td>\n",
       "      <td>0.0849893</td>\n",
       "      <td>0.910534</td>\n",
       "      <td>0.0446562</td>\n",
       "      <td>0.594095</td>\n",
       "      <td>0.624496</td>\n",
       "      <td>0.656704</td>\n",
       "      <td>0.580654</td>\n",
       "      <td>0.703661</td>\n",
       "    </tr>\n",
       "    <tr>\n",
       "      <th>1</th>\n",
       "      <td>1.5</td>\n",
       "      <td>0.638126</td>\n",
       "      <td>0.100113</td>\n",
       "      <td>0.910534</td>\n",
       "      <td>0.0529919</td>\n",
       "      <td>0.473043</td>\n",
       "      <td>0.738645</td>\n",
       "      <td>0.690729</td>\n",
       "      <td>0.552941</td>\n",
       "      <td>0.735272</td>\n",
       "    </tr>\n",
       "    <tr>\n",
       "      <th>2</th>\n",
       "      <td>2.0</td>\n",
       "      <td>0.630678</td>\n",
       "      <td>0.152529</td>\n",
       "      <td>0.892208</td>\n",
       "      <td>0.0834524</td>\n",
       "      <td>0.530585</td>\n",
       "      <td>0.738668</td>\n",
       "      <td>0.638241</td>\n",
       "      <td>0.521315</td>\n",
       "      <td>0.724583</td>\n",
       "    </tr>\n",
       "    <tr>\n",
       "      <th>3</th>\n",
       "      <td>4.0</td>\n",
       "      <td>0.706355</td>\n",
       "      <td>0.256208</td>\n",
       "      <td>0.871841</td>\n",
       "      <td>0.150405</td>\n",
       "      <td>0.752089</td>\n",
       "      <td>0.77874</td>\n",
       "      <td>0.646365</td>\n",
       "      <td>0.612999</td>\n",
       "      <td>0.74158</td>\n",
       "    </tr>\n",
       "    <tr>\n",
       "      <th>4</th>\n",
       "      <td>6.0</td>\n",
       "      <td>0.715018</td>\n",
       "      <td>0.355319</td>\n",
       "      <td>0.86578</td>\n",
       "      <td>0.225901</td>\n",
       "      <td>0.745265</td>\n",
       "      <td>0.795115</td>\n",
       "      <td>0.703544</td>\n",
       "      <td>0.667069</td>\n",
       "      <td>0.6641</td>\n",
       "    </tr>\n",
       "    <tr>\n",
       "      <th>5</th>\n",
       "      <td>9.0</td>\n",
       "      <td>0.715873</td>\n",
       "      <td>0.460802</td>\n",
       "      <td>0.857638</td>\n",
       "      <td>0.31553</td>\n",
       "      <td>0.752663</td>\n",
       "      <td>0.76031</td>\n",
       "      <td>0.718145</td>\n",
       "      <td>0.632115</td>\n",
       "      <td>0.716133</td>\n",
       "    </tr>\n",
       "    <tr>\n",
       "      <th>6</th>\n",
       "      <td>19.0</td>\n",
       "      <td>0.73367</td>\n",
       "      <td>0.658407</td>\n",
       "      <td>0.841394</td>\n",
       "      <td>0.543917</td>\n",
       "      <td>0.736913</td>\n",
       "      <td>0.783623</td>\n",
       "      <td>0.73145</td>\n",
       "      <td>0.67564</td>\n",
       "      <td>0.740724</td>\n",
       "    </tr>\n",
       "    <tr>\n",
       "      <th>7</th>\n",
       "      <td>39.0</td>\n",
       "      <td>0.742437</td>\n",
       "      <td>0.730798</td>\n",
       "      <td>0.814945</td>\n",
       "      <td>0.662903</td>\n",
       "      <td>0.767245</td>\n",
       "      <td>0.794237</td>\n",
       "      <td>0.692587</td>\n",
       "      <td>0.689074</td>\n",
       "      <td>0.769044</td>\n",
       "    </tr>\n",
       "    <tr>\n",
       "      <th>8</th>\n",
       "      <td>59.0</td>\n",
       "      <td>0.748269</td>\n",
       "      <td>0.767645</td>\n",
       "      <td>0.812905</td>\n",
       "      <td>0.727823</td>\n",
       "      <td>0.775204</td>\n",
       "      <td>0.808034</td>\n",
       "      <td>0.705086</td>\n",
       "      <td>0.678276</td>\n",
       "      <td>0.774742</td>\n",
       "    </tr>\n",
       "    <tr>\n",
       "      <th>9</th>\n",
       "      <td>79.0</td>\n",
       "      <td>0.754793</td>\n",
       "      <td>0.779628</td>\n",
       "      <td>0.792538</td>\n",
       "      <td>0.768107</td>\n",
       "      <td>0.758322</td>\n",
       "      <td>0.811642</td>\n",
       "      <td>0.729565</td>\n",
       "      <td>0.701821</td>\n",
       "      <td>0.772614</td>\n",
       "    </tr>\n",
       "  </tbody>\n",
       "</table>\n",
       "</div>"
      ],
      "text/plain": [
       "   sample_factors       mAP  mF1-score   mRecall mPrecision AP_Fold_1  \\\n",
       "0             1.0  0.631922  0.0849893  0.910534  0.0446562  0.594095   \n",
       "1             1.5  0.638126   0.100113  0.910534  0.0529919  0.473043   \n",
       "2             2.0  0.630678   0.152529  0.892208  0.0834524  0.530585   \n",
       "3             4.0  0.706355   0.256208  0.871841   0.150405  0.752089   \n",
       "4             6.0  0.715018   0.355319   0.86578   0.225901  0.745265   \n",
       "5             9.0  0.715873   0.460802  0.857638    0.31553  0.752663   \n",
       "6            19.0   0.73367   0.658407  0.841394   0.543917  0.736913   \n",
       "7            39.0  0.742437   0.730798  0.814945   0.662903  0.767245   \n",
       "8            59.0  0.748269   0.767645  0.812905   0.727823  0.775204   \n",
       "9            79.0  0.754793   0.779628  0.792538   0.768107  0.758322   \n",
       "\n",
       "  AP_Fold_2 AP_Fold_3 AP_Fold_4 AP_Fold_5  \n",
       "0  0.624496  0.656704  0.580654  0.703661  \n",
       "1  0.738645  0.690729  0.552941  0.735272  \n",
       "2  0.738668  0.638241  0.521315  0.724583  \n",
       "3   0.77874  0.646365  0.612999   0.74158  \n",
       "4  0.795115  0.703544  0.667069    0.6641  \n",
       "5   0.76031  0.718145  0.632115  0.716133  \n",
       "6  0.783623   0.73145   0.67564  0.740724  \n",
       "7  0.794237  0.692587  0.689074  0.769044  \n",
       "8  0.808034  0.705086  0.678276  0.774742  \n",
       "9  0.811642  0.729565  0.701821  0.772614  "
      ]
     },
     "execution_count": 15,
     "metadata": {},
     "output_type": "execute_result"
    }
   ],
   "source": [
    "results_table"
   ]
  },
  {
   "cell_type": "markdown",
   "metadata": {
    "Collapsed": "false"
   },
   "source": [
    "- We can see that undersampling is a valid strategy for dealing with highly imbalanced data.\n",
    "- As the amount of non-fraudulent samples increases recall drops and average precision increases\n",
    "- The sample factor 79 performs best (regarding AP), however worse than the classifier trained using class weights in both AP and recall\n",
    "- A big advantage of undersampling compared to using class weights is that training is much faster, due to the much smaller training set\n",
    "\n",
    "Let's again take a closer look at the classifier at fold 5"
   ]
  },
  {
   "cell_type": "code",
   "execution_count": 20,
   "metadata": {
    "Collapsed": "false"
   },
   "outputs": [],
   "source": [
    "train_idx, test_idx = list(skf.split(X,y))[4]\n",
    "X_train, X_test = X[train_index], X[test_index]\n",
    "y_train, y_test = y[train_index], y[test_index]\n",
    "\n",
    "model = LogisticRegression(max_iter=250)\n",
    "\n",
    "# we use RobustScaler which uses median and interquartile range instead of mean and std  \n",
    "scaler = RobustScaler()\n",
    "scaler.fit(X_train)\n",
    "X_undersampled, y_undersampled = undersample(scaler.transform(X_train), y_train, sample_factor=79, random_state=12)\n",
    "\n",
    "model.fit(X_undersampled, y_undersampled)\n",
    "\n",
    "scores = model.predict_proba(scaler.transform(X_test))[:,1]"
   ]
  },
  {
   "cell_type": "code",
   "execution_count": 21,
   "metadata": {
    "Collapsed": "false"
   },
   "outputs": [
    {
     "data": {
      "image/png": "[encoded data removed]",
      "text/plain": [
       "<Figure size 432x288 with 1 Axes>"
      ]
     },
     "metadata": {
      "needs_background": "light"
     },
     "output_type": "display_data"
    },
    {
     "data": {
      "image/png": "[encoded data removed]",
      "text/plain": [
       "<Figure size 432x288 with 2 Axes>"
      ]
     },
     "metadata": {
      "needs_background": "light"
     },
     "output_type": "display_data"
    },
    {
     "name": "stdout",
     "output_type": "stream",
     "text": [
      "---Classification Report---\n",
      "              precision    recall  f1-score   support\n",
      "\n",
      "           0       1.00      1.00      1.00     56863\n",
      "           1       0.79      0.84      0.81        98\n",
      "\n",
      "    accuracy                           1.00     56961\n",
      "   macro avg       0.89      0.92      0.91     56961\n",
      "weighted avg       1.00      1.00      1.00     56961\n",
      "\n"
     ]
    }
   ],
   "source": [
    "draw_pr_curve(y_test, scores)\n",
    "draw_confusion_matrix(y_test, scores > 0.5)"
   ]
  },
  {
   "cell_type": "markdown",
   "metadata": {
    "Collapsed": "false"
   },
   "source": [
    "## Decision Trees"
   ]
  },
  {
   "cell_type": "markdown",
   "metadata": {
    "Collapsed": "false"
   },
   "source": [
    "comming soon..."
   ]
  }
 ],
 "metadata": {
  "kernelspec": {
   "display_name": "Python 3",
   "language": "python",
   "name": "python3"
  },
  "language_info": {
   "codemirror_mode": {
    "name": "ipython",
    "version": 3
   },
   "file_extension": ".py",
   "mimetype": "text/x-python",
   "name": "python",
   "nbconvert_exporter": "python",
   "pygments_lexer": "ipython3",
   "version": "3.6.9"
  }
 },
 "nbformat": 4,
 "nbformat_minor": 4
}
