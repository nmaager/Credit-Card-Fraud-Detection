{
 "cells": [
  {
   "cell_type": "markdown",
   "metadata": {
    "Collapsed": "false"
   },
   "source": [
    "# Credit Card Fraud Prediction Models\n",
    "\n",
    "In this kernel we will evaluate different classification models and use different methods for handling imbalanced data.\n",
    "\n",
    " 1. using class weights in our classification model\n",
    " 2. using random undersampling during training"
   ]
  },
  {
   "cell_type": "markdown",
   "metadata": {
    "Collapsed": "false"
   },
   "source": [
    "### Imports and helper functions"
   ]
  },
  {
   "cell_type": "code",
   "execution_count": 7,
   "metadata": {
    "Collapsed": "false"
   },
   "outputs": [],
   "source": [
    "import numpy as np\n",
    "import matplotlib.pyplot as plt\n",
    "import seaborn as sns\n",
    "import pandas as pd\n",
    "pd.set_option('display.max_columns', 500)\n",
    "from tqdm import tqdm\n",
    "\n",
    "from sklearn.utils import shuffle\n",
    "from sklearn.model_selection import train_test_split, cross_val_score, StratifiedKFold\n",
    "from sklearn.preprocessing import StandardScaler, RobustScaler\n",
    "\n",
    "from sklearn.metrics import precision_recall_curve, average_precision_score, classification_report, confusion_matrix, f1_score, recall_score, precision_score\n",
    "\n",
    "from sklearn.linear_model import LogisticRegression\n"
   ]
  },
  {
   "cell_type": "code",
   "execution_count": 2,
   "metadata": {
    "Collapsed": "false"
   },
   "outputs": [],
   "source": [
    "def draw_pr_curve(y_true, scores):\n",
    "    \"\"\"\n",
    "    draws precision-recall curves\n",
    "    \"\"\"\n",
    "    prec, recall, thresholds = precision_recall_curve(y_true, scores)\n",
    "    ap = average_precision_score(y_true, scores)\n",
    "    plt.figure()\n",
    "    lw = 2\n",
    "    plt.plot(prec, recall, color='darkorange',\n",
    "             lw=lw, label='Average Precision (ap = %0.2f)' % ap)\n",
    "    plt.plot([0, 1], [1, 0], color='navy', lw=lw, linestyle='--')\n",
    "    plt.xlim([0.0, 1.0])\n",
    "    plt.ylim([0.0, 1.05])\n",
    "    plt.xlabel('Recall')\n",
    "    plt.ylabel('Precision')\n",
    "    plt.title('Precision-Recall curve')\n",
    "    plt.legend(loc=\"lower left\")\n",
    "    plt.show()\n",
    "\n",
    "def draw_confusion_matrix(y_true, pred, normalize=True, print_report=True, title='Confusion Matrix', cmap=plt.cm.Blues):\n",
    "    \"\"\"\n",
    "    draws confusion matrices and print a classification report\n",
    "    \"\"\"\n",
    "    cm = confusion_matrix(y_true, pred)\n",
    "    if normalize:\n",
    "        cm = cm.astype(\"float\") / cm.sum(axis=1)[:, None]\n",
    "    \n",
    "    sns.heatmap(cm, cmap='coolwarm_r', linewidths=0.5, annot=True)\n",
    "    plt.title('Confusion Matrix')\n",
    "    plt.ylabel('Real Classes')\n",
    "    plt.xlabel('Predicted Classes')\n",
    "    plt.show()\n",
    "    \n",
    "    if print_report:\n",
    "        print('---Classification Report---')\n",
    "        print(classification_report(y_true, pred)) "
   ]
  },
  {
   "cell_type": "markdown",
   "metadata": {
    "Collapsed": "false"
   },
   "source": [
    "### Reading in the data"
   ]
  },
  {
   "cell_type": "code",
   "execution_count": 8,
   "metadata": {
    "Collapsed": "false"
   },
   "outputs": [],
   "source": [
    "df = pd.read_csv(\"Data/creditcard.csv\")\n",
    "#df.head()"
   ]
  },
  {
   "cell_type": "markdown",
   "metadata": {
    "Collapsed": "false"
   },
   "source": [
    "## Logistic Regression"
   ]
  },
  {
   "cell_type": "markdown",
   "metadata": {
    "Collapsed": "false"
   },
   "source": [
    "### Data preprocessing\n",
    "\n",
    "For the \"Time\" feature we replace \"elapsed time\" with the \"TimeTag\" feature (EDA) and standardize our features."
   ]
  },
  {
   "cell_type": "code",
   "execution_count": 16,
   "metadata": {
    "Collapsed": "false"
   },
   "outputs": [],
   "source": [
    "X = df.drop(columns=[\"Class\"])\n",
    "y = df.Class.values\n",
    "\n",
    "\n",
    "def replace_time(df, tag=False):\n",
    "    clock_time = (df[\"Time\"]/3600.0)%24\n",
    "    \n",
    "    # use TimeTag (from EDA) instead of normal time\n",
    "    if tag:\n",
    "        TimeTag = np.array((clock_time < 6) , dtype=np.int8)\n",
    "        return df.assign(Time = TimeTag)\n",
    "    else:\n",
    "        return df.assign(Time = clock_time)\n",
    "\n",
    "\n",
    "X = replace_time(X, tag=True)\n",
    "X = X.values"
   ]
  },
  {
   "cell_type": "markdown",
   "metadata": {
    "Collapsed": "false"
   },
   "source": [
    "### Class weights\n",
    "\n",
    "One straight forward way to handle class imbalances is the use of class weight.\n",
    "\n",
    "To determine the right class weights we will use cross validation.\n",
    "\n",
    "Since the data is heavily imbalanced we don't want to use accuracy (classifying every sample with 0 gives an accuracy of 99.83%). Also ROC-curves have their problems with highly imbalanced data and give an overly-optimistic score, because the TN-rate is very high in this cases. \n",
    "\n",
    "Therefore we use average precision (ap) or the area under the Precision-Recall curve as out main metric."
   ]
  },
  {
   "cell_type": "code",
   "execution_count": 79,
   "metadata": {
    "Collapsed": "false"
   },
   "outputs": [
    {
     "name": "stderr",
     "output_type": "stream",
     "text": [
      "  0%|                                                                                            | 0/5 [00:00<?, ?it/s]\n",
      "0it [00:00, ?it/s]\u001b[A\n",
      "  0%|                                                                                            | 0/5 [00:00<?, ?it/s]\n"
     ]
    },
    {
     "ename": "KeyError",
     "evalue": "\"None of [Int64Index([     0,      3,      4,      5,      6,      7,      9,     10,\\n                12,     13,\\n            ...\\n            284792, 284795, 284797, 284798, 284799, 284800, 284801, 284802,\\n            284805, 284806],\\n           dtype='int64', length=227845)] are in the [columns]\"",
     "output_type": "error",
     "traceback": [
      "\u001b[1;31m---------------------------------------------------------------------------\u001b[0m",
      "\u001b[1;31mKeyError\u001b[0m                                  Traceback (most recent call last)",
      "\u001b[1;32m<ipython-input-79-0968d9938d77>\u001b[0m in \u001b[0;36m<module>\u001b[1;34m\u001b[0m\n\u001b[0;32m     15\u001b[0m     \u001b[1;32mfor\u001b[0m \u001b[0mfold_nr\u001b[0m\u001b[1;33m,\u001b[0m \u001b[1;33m(\u001b[0m\u001b[0mtrain_index\u001b[0m\u001b[1;33m,\u001b[0m \u001b[0mtest_index\u001b[0m\u001b[1;33m)\u001b[0m \u001b[1;32min\u001b[0m \u001b[0menumerate\u001b[0m\u001b[1;33m(\u001b[0m\u001b[0mtqdm\u001b[0m\u001b[1;33m(\u001b[0m\u001b[0mskf\u001b[0m\u001b[1;33m.\u001b[0m\u001b[0msplit\u001b[0m\u001b[1;33m(\u001b[0m\u001b[0mX\u001b[0m\u001b[1;33m,\u001b[0m \u001b[0my\u001b[0m\u001b[1;33m)\u001b[0m\u001b[1;33m)\u001b[0m\u001b[1;33m)\u001b[0m\u001b[1;33m:\u001b[0m\u001b[1;33m\u001b[0m\u001b[1;33m\u001b[0m\u001b[0m\n\u001b[0;32m     16\u001b[0m \u001b[1;33m\u001b[0m\u001b[0m\n\u001b[1;32m---> 17\u001b[1;33m         \u001b[0mX_train\u001b[0m\u001b[1;33m,\u001b[0m \u001b[0mX_test\u001b[0m \u001b[1;33m=\u001b[0m \u001b[0mX\u001b[0m\u001b[1;33m[\u001b[0m\u001b[0mtrain_index\u001b[0m\u001b[1;33m]\u001b[0m\u001b[1;33m,\u001b[0m \u001b[0mX\u001b[0m\u001b[1;33m[\u001b[0m\u001b[0mtest_index\u001b[0m\u001b[1;33m]\u001b[0m\u001b[1;33m\u001b[0m\u001b[1;33m\u001b[0m\u001b[0m\n\u001b[0m\u001b[0;32m     18\u001b[0m         \u001b[0my_train\u001b[0m\u001b[1;33m,\u001b[0m \u001b[0my_test\u001b[0m \u001b[1;33m=\u001b[0m \u001b[0my\u001b[0m\u001b[1;33m[\u001b[0m\u001b[0mtrain_index\u001b[0m\u001b[1;33m]\u001b[0m\u001b[1;33m,\u001b[0m \u001b[0my\u001b[0m\u001b[1;33m[\u001b[0m\u001b[0mtest_index\u001b[0m\u001b[1;33m]\u001b[0m\u001b[1;33m\u001b[0m\u001b[1;33m\u001b[0m\u001b[0m\n\u001b[0;32m     19\u001b[0m \u001b[1;33m\u001b[0m\u001b[0m\n",
      "\u001b[1;32mD:\\Anaconda\\envs\\kaggle\\lib\\site-packages\\pandas\\core\\frame.py\u001b[0m in \u001b[0;36m__getitem__\u001b[1;34m(self, key)\u001b[0m\n\u001b[0;32m   2999\u001b[0m             \u001b[1;32mif\u001b[0m \u001b[0mis_iterator\u001b[0m\u001b[1;33m(\u001b[0m\u001b[0mkey\u001b[0m\u001b[1;33m)\u001b[0m\u001b[1;33m:\u001b[0m\u001b[1;33m\u001b[0m\u001b[1;33m\u001b[0m\u001b[0m\n\u001b[0;32m   3000\u001b[0m                 \u001b[0mkey\u001b[0m \u001b[1;33m=\u001b[0m \u001b[0mlist\u001b[0m\u001b[1;33m(\u001b[0m\u001b[0mkey\u001b[0m\u001b[1;33m)\u001b[0m\u001b[1;33m\u001b[0m\u001b[1;33m\u001b[0m\u001b[0m\n\u001b[1;32m-> 3001\u001b[1;33m             \u001b[0mindexer\u001b[0m \u001b[1;33m=\u001b[0m \u001b[0mself\u001b[0m\u001b[1;33m.\u001b[0m\u001b[0mloc\u001b[0m\u001b[1;33m.\u001b[0m\u001b[0m_convert_to_indexer\u001b[0m\u001b[1;33m(\u001b[0m\u001b[0mkey\u001b[0m\u001b[1;33m,\u001b[0m \u001b[0maxis\u001b[0m\u001b[1;33m=\u001b[0m\u001b[1;36m1\u001b[0m\u001b[1;33m,\u001b[0m \u001b[0mraise_missing\u001b[0m\u001b[1;33m=\u001b[0m\u001b[1;32mTrue\u001b[0m\u001b[1;33m)\u001b[0m\u001b[1;33m\u001b[0m\u001b[1;33m\u001b[0m\u001b[0m\n\u001b[0m\u001b[0;32m   3002\u001b[0m \u001b[1;33m\u001b[0m\u001b[0m\n\u001b[0;32m   3003\u001b[0m         \u001b[1;31m# take() does not accept boolean indexers\u001b[0m\u001b[1;33m\u001b[0m\u001b[1;33m\u001b[0m\u001b[1;33m\u001b[0m\u001b[0m\n",
      "\u001b[1;32mD:\\Anaconda\\envs\\kaggle\\lib\\site-packages\\pandas\\core\\indexing.py\u001b[0m in \u001b[0;36m_convert_to_indexer\u001b[1;34m(self, obj, axis, is_setter, raise_missing)\u001b[0m\n\u001b[0;32m   1283\u001b[0m                 \u001b[1;31m# When setting, missing keys are not allowed, even with .loc:\u001b[0m\u001b[1;33m\u001b[0m\u001b[1;33m\u001b[0m\u001b[1;33m\u001b[0m\u001b[0m\n\u001b[0;32m   1284\u001b[0m                 \u001b[0mkwargs\u001b[0m \u001b[1;33m=\u001b[0m \u001b[1;33m{\u001b[0m\u001b[1;34m\"raise_missing\"\u001b[0m\u001b[1;33m:\u001b[0m \u001b[1;32mTrue\u001b[0m \u001b[1;32mif\u001b[0m \u001b[0mis_setter\u001b[0m \u001b[1;32melse\u001b[0m \u001b[0mraise_missing\u001b[0m\u001b[1;33m}\u001b[0m\u001b[1;33m\u001b[0m\u001b[1;33m\u001b[0m\u001b[0m\n\u001b[1;32m-> 1285\u001b[1;33m                 \u001b[1;32mreturn\u001b[0m \u001b[0mself\u001b[0m\u001b[1;33m.\u001b[0m\u001b[0m_get_listlike_indexer\u001b[0m\u001b[1;33m(\u001b[0m\u001b[0mobj\u001b[0m\u001b[1;33m,\u001b[0m \u001b[0maxis\u001b[0m\u001b[1;33m,\u001b[0m \u001b[1;33m**\u001b[0m\u001b[0mkwargs\u001b[0m\u001b[1;33m)\u001b[0m\u001b[1;33m[\u001b[0m\u001b[1;36m1\u001b[0m\u001b[1;33m]\u001b[0m\u001b[1;33m\u001b[0m\u001b[1;33m\u001b[0m\u001b[0m\n\u001b[0m\u001b[0;32m   1286\u001b[0m         \u001b[1;32melse\u001b[0m\u001b[1;33m:\u001b[0m\u001b[1;33m\u001b[0m\u001b[1;33m\u001b[0m\u001b[0m\n\u001b[0;32m   1287\u001b[0m             \u001b[1;32mtry\u001b[0m\u001b[1;33m:\u001b[0m\u001b[1;33m\u001b[0m\u001b[1;33m\u001b[0m\u001b[0m\n",
      "\u001b[1;32mD:\\Anaconda\\envs\\kaggle\\lib\\site-packages\\pandas\\core\\indexing.py\u001b[0m in \u001b[0;36m_get_listlike_indexer\u001b[1;34m(self, key, axis, raise_missing)\u001b[0m\n\u001b[0;32m   1090\u001b[0m \u001b[1;33m\u001b[0m\u001b[0m\n\u001b[0;32m   1091\u001b[0m         self._validate_read_indexer(\n\u001b[1;32m-> 1092\u001b[1;33m             \u001b[0mkeyarr\u001b[0m\u001b[1;33m,\u001b[0m \u001b[0mindexer\u001b[0m\u001b[1;33m,\u001b[0m \u001b[0mo\u001b[0m\u001b[1;33m.\u001b[0m\u001b[0m_get_axis_number\u001b[0m\u001b[1;33m(\u001b[0m\u001b[0maxis\u001b[0m\u001b[1;33m)\u001b[0m\u001b[1;33m,\u001b[0m \u001b[0mraise_missing\u001b[0m\u001b[1;33m=\u001b[0m\u001b[0mraise_missing\u001b[0m\u001b[1;33m\u001b[0m\u001b[1;33m\u001b[0m\u001b[0m\n\u001b[0m\u001b[0;32m   1093\u001b[0m         )\n\u001b[0;32m   1094\u001b[0m         \u001b[1;32mreturn\u001b[0m \u001b[0mkeyarr\u001b[0m\u001b[1;33m,\u001b[0m \u001b[0mindexer\u001b[0m\u001b[1;33m\u001b[0m\u001b[1;33m\u001b[0m\u001b[0m\n",
      "\u001b[1;32mD:\\Anaconda\\envs\\kaggle\\lib\\site-packages\\pandas\\core\\indexing.py\u001b[0m in \u001b[0;36m_validate_read_indexer\u001b[1;34m(self, key, indexer, axis, raise_missing)\u001b[0m\n\u001b[0;32m   1175\u001b[0m                 raise KeyError(\n\u001b[0;32m   1176\u001b[0m                     \"None of [{key}] are in the [{axis}]\".format(\n\u001b[1;32m-> 1177\u001b[1;33m                         \u001b[0mkey\u001b[0m\u001b[1;33m=\u001b[0m\u001b[0mkey\u001b[0m\u001b[1;33m,\u001b[0m \u001b[0maxis\u001b[0m\u001b[1;33m=\u001b[0m\u001b[0mself\u001b[0m\u001b[1;33m.\u001b[0m\u001b[0mobj\u001b[0m\u001b[1;33m.\u001b[0m\u001b[0m_get_axis_name\u001b[0m\u001b[1;33m(\u001b[0m\u001b[0maxis\u001b[0m\u001b[1;33m)\u001b[0m\u001b[1;33m\u001b[0m\u001b[1;33m\u001b[0m\u001b[0m\n\u001b[0m\u001b[0;32m   1178\u001b[0m                     )\n\u001b[0;32m   1179\u001b[0m                 )\n",
      "\u001b[1;31mKeyError\u001b[0m: \"None of [Int64Index([     0,      3,      4,      5,      6,      7,      9,     10,\\n                12,     13,\\n            ...\\n            284792, 284795, 284797, 284798, 284799, 284800, 284801, 284802,\\n            284805, 284806],\\n           dtype='int64', length=227845)] are in the [columns]\""
     ]
    }
   ],
   "source": [
    "skf = StratifiedKFold(n_splits=5, shuffle=True, random_state=12)\n",
    "\n",
    "weights = [1, 10, 20, 50, 100]\n",
    "\n",
    "results_table = pd.DataFrame(index=range(len(weights)), columns=[\"class_weight\", \"mAP\", \"mF1-score\", \"mRecall\", \"mPrecision\", \"AP_Fold_1\",\"AP_Fold_2\",\"AP_Fold_3\",\"AP_Fold_4\",\"AP_Fold_5\"])\n",
    "results_table[\"class_weight\"] = weights\n",
    "\n",
    "for i, weight in enumerate(tqdm(weights)):\n",
    "    \n",
    "    APs = []\n",
    "    F_scores = []\n",
    "    Recall_scores = []\n",
    "    Precision_scores = []\n",
    "        \n",
    "    for fold_nr, (train_index, test_index) in enumerate(tqdm(skf.split(X, y))):\n",
    "        \n",
    "        X_train, X_test = X[train_index], X[test_index]\n",
    "        y_train, y_test = y[train_index], y[test_index]\n",
    "        \n",
    "        model = LogisticRegression(class_weight={0:1,1:weight}, max_iter=250)\n",
    "        \n",
    "        # we use RobustScaler which uses median and interquartile range instead of mean and std  \n",
    "        scaler = RobustScaler()\n",
    "        scaler.fit(X_train)\n",
    "        \n",
    "        model.fit(scaler.transform(X_train), y_train)\n",
    "        \n",
    "        scores = model.predict_proba(scaler.transform(X_test))[:,1]\n",
    "        ap = average_precision_score(y_test, scores)\n",
    "        f_score = f1_score(y_test, scores > 0.5)\n",
    "        recall = recall_score(y_test, scores > 0.5)\n",
    "        precision = precision_score(y_test, scores > 0.5)\n",
    "        APs.append(ap)\n",
    "        F_scores.append(f_score)\n",
    "        Recall_scores.append(recall)\n",
    "        Precision_scores.append(precision)\n",
    "        #print(ap)\n",
    "        results_table.loc[i, (\"AP_Fold_\"+str(1+fold_nr))] = ap\n",
    "    \n",
    "    mAP = np.mean(APs)\n",
    "    mF1 = np.mean(F_scores)\n",
    "    mRecall = np.mean(Recall_scores)\n",
    "    mPrecision = np.mean(Precision_scores)\n",
    "    \n",
    "    results_table.loc[i,\"mAP\"] = mAP\n",
    "    results_table.loc[i,\"mF1-score\"] = mF1\n",
    "    results_table.loc[i,\"mRecall\"] = mRecall\n",
    "    results_table.loc[i,\"mPrecision\"] = mPrecision"
   ]
  },
  {
   "cell_type": "code",
   "execution_count": 6,
   "metadata": {
    "Collapsed": "false"
   },
   "outputs": [
    {
     "data": {
      "text/html": [
       "<div>\n",
       "<style scoped>\n",
       "    .dataframe tbody tr th:only-of-type {\n",
       "        vertical-align: middle;\n",
       "    }\n",
       "\n",
       "    .dataframe tbody tr th {\n",
       "        vertical-align: top;\n",
       "    }\n",
       "\n",
       "    .dataframe thead th {\n",
       "        text-align: right;\n",
       "    }\n",
       "</style>\n",
       "<table border=\"1\" class=\"dataframe\">\n",
       "  <thead>\n",
       "    <tr style=\"text-align: right;\">\n",
       "      <th></th>\n",
       "      <th>class_weight</th>\n",
       "      <th>mAP</th>\n",
       "      <th>mF1-score</th>\n",
       "      <th>mRecall</th>\n",
       "      <th>mPrecision</th>\n",
       "      <th></th>\n",
       "      <th>AP_Fold_1</th>\n",
       "      <th>AP_Fold_2</th>\n",
       "      <th>AP_Fold_3</th>\n",
       "      <th>AP_Fold_4</th>\n",
       "      <th>AP_Fold_5</th>\n",
       "    </tr>\n",
       "  </thead>\n",
       "  <tbody>\n",
       "    <tr>\n",
       "      <th>0</th>\n",
       "      <td>1</td>\n",
       "      <td>0.758725</td>\n",
       "      <td>0.719522</td>\n",
       "      <td>0.617934</td>\n",
       "      <td>0.864544</td>\n",
       "      <td>NaN</td>\n",
       "      <td>0.768639</td>\n",
       "      <td>0.80203</td>\n",
       "      <td>0.731441</td>\n",
       "      <td>0.711745</td>\n",
       "      <td>0.77977</td>\n",
       "    </tr>\n",
       "    <tr>\n",
       "      <th>1</th>\n",
       "      <td>10</td>\n",
       "      <td>0.760963</td>\n",
       "      <td>0.787416</td>\n",
       "      <td>0.814945</td>\n",
       "      <td>0.762263</td>\n",
       "      <td>NaN</td>\n",
       "      <td>0.782821</td>\n",
       "      <td>0.812177</td>\n",
       "      <td>0.732997</td>\n",
       "      <td>0.701199</td>\n",
       "      <td>0.775619</td>\n",
       "    </tr>\n",
       "    <tr>\n",
       "      <th>2</th>\n",
       "      <td>20</td>\n",
       "      <td>0.756894</td>\n",
       "      <td>0.741184</td>\n",
       "      <td>0.82717</td>\n",
       "      <td>0.67239</td>\n",
       "      <td>NaN</td>\n",
       "      <td>0.779568</td>\n",
       "      <td>0.808477</td>\n",
       "      <td>0.727578</td>\n",
       "      <td>0.696755</td>\n",
       "      <td>0.772091</td>\n",
       "    </tr>\n",
       "    <tr>\n",
       "      <th>3</th>\n",
       "      <td>50</td>\n",
       "      <td>0.75216</td>\n",
       "      <td>0.625587</td>\n",
       "      <td>0.851515</td>\n",
       "      <td>0.495276</td>\n",
       "      <td>NaN</td>\n",
       "      <td>0.77306</td>\n",
       "      <td>0.803118</td>\n",
       "      <td>0.72492</td>\n",
       "      <td>0.691362</td>\n",
       "      <td>0.76834</td>\n",
       "    </tr>\n",
       "    <tr>\n",
       "      <th>4</th>\n",
       "      <td>100</td>\n",
       "      <td>0.749437</td>\n",
       "      <td>0.424009</td>\n",
       "      <td>0.86576</td>\n",
       "      <td>0.28134</td>\n",
       "      <td>NaN</td>\n",
       "      <td>0.76811</td>\n",
       "      <td>0.796274</td>\n",
       "      <td>0.728854</td>\n",
       "      <td>0.685315</td>\n",
       "      <td>0.768631</td>\n",
       "    </tr>\n",
       "  </tbody>\n",
       "</table>\n",
       "</div>"
      ],
      "text/plain": [
       "   class_weight       mAP mF1-score   mRecall mPrecision      AP_Fold_1  \\\n",
       "0             1  0.758725  0.719522  0.617934   0.864544  NaN  0.768639   \n",
       "1            10  0.760963  0.787416  0.814945   0.762263  NaN  0.782821   \n",
       "2            20  0.756894  0.741184   0.82717    0.67239  NaN  0.779568   \n",
       "3            50   0.75216  0.625587  0.851515   0.495276  NaN   0.77306   \n",
       "4           100  0.749437  0.424009   0.86576    0.28134  NaN   0.76811   \n",
       "\n",
       "  AP_Fold_2 AP_Fold_3 AP_Fold_4 AP_Fold_5  \n",
       "0   0.80203  0.731441  0.711745   0.77977  \n",
       "1  0.812177  0.732997  0.701199  0.775619  \n",
       "2  0.808477  0.727578  0.696755  0.772091  \n",
       "3  0.803118   0.72492  0.691362   0.76834  \n",
       "4  0.796274  0.728854  0.685315  0.768631  "
      ]
     },
     "execution_count": 6,
     "metadata": {},
     "output_type": "execute_result"
    }
   ],
   "source": [
    "results_table"
   ]
  },
  {
   "cell_type": "markdown",
   "metadata": {
    "Collapsed": "false"
   },
   "source": [
    "The class weight 10 performs best in cross_validation (regarding average precision).\n",
    "\n",
    "Let's take a closer look at the classifier at Fold 5 (where classification performance resembles the average the most)"
   ]
  },
  {
   "cell_type": "code",
   "execution_count": 7,
   "metadata": {
    "Collapsed": "false"
   },
   "outputs": [],
   "source": [
    "train_idx, test_idx = list(skf.split(X,y))[4]\n",
    "X_train, X_test = X[train_index], X[test_index]\n",
    "y_train, y_test = y[train_index], y[test_index]\n",
    "\n",
    "model = LogisticRegression(class_weight={0:1,1:10}, max_iter=250)\n",
    "\n",
    "scaler = RobustScaler()\n",
    "scaler.fit(X_train)\n",
    "\n",
    "model.fit(scaler.transform(X_train), y_train)\n",
    "\n",
    "scores = model.predict_proba(scaler.transform(X_test))[:,1]"
   ]
  },
  {
   "cell_type": "code",
   "execution_count": 8,
   "metadata": {
    "Collapsed": "false"
   },
   "outputs": [
    {
     "data": {
      "image/png": "[encoded data removed]",
      "text/plain": [
       "<Figure size 432x288 with 1 Axes>"
      ]
     },
     "metadata": {
      "needs_background": "light"
     },
     "output_type": "display_data"
    },
    {
     "data": {
      "image/png": "[encoded data removed]",
      "text/plain": [
       "<Figure size 432x288 with 2 Axes>"
      ]
     },
     "metadata": {
      "needs_background": "light"
     },
     "output_type": "display_data"
    },
    {
     "name": "stdout",
     "output_type": "stream",
     "text": [
      "---Classification Report---\n",
      "              precision    recall  f1-score   support\n",
      "\n",
      "           0       1.00      1.00      1.00     56863\n",
      "           1       0.80      0.84      0.82        98\n",
      "\n",
      "    accuracy                           1.00     56961\n",
      "   macro avg       0.90      0.92      0.91     56961\n",
      "weighted avg       1.00      1.00      1.00     56961\n",
      "\n"
     ]
    }
   ],
   "source": [
    "draw_pr_curve(y_test, scores)\n",
    "draw_confusion_matrix(y_test, scores > 0.5)"
   ]
  },
  {
   "cell_type": "markdown",
   "metadata": {
    "Collapsed": "false"
   },
   "source": [
    "We can see that just tuning the class weights for logistic regression can give a good classifier.\n",
    "\n",
    "Note that in a real world fraud detector one would - depending on the cost of FPs and FNs - tune a classifier a bit more. <br>\n",
    "For example with the cost for False Negatives is very low, one would prefer a model with higher recall."
   ]
  },
  {
   "cell_type": "markdown",
   "metadata": {
    "Collapsed": "false"
   },
   "source": [
    "### Undersampling\n",
    "\n",
    "Another way to handle class imbalances is to randomly undersample the non-fraudulent samples in training."
   ]
  },
  {
   "cell_type": "code",
   "execution_count": 9,
   "metadata": {
    "Collapsed": "false"
   },
   "outputs": [],
   "source": [
    "def undersample(X, y, sample_factor=1, shuffled=True, random_state=None):\n",
    "    \"\"\"\n",
    "    Undersamples the non-fraudulent samples\n",
    "    \n",
    "    sample_factor gives the amount of non-fraud samples for every fraud sample\n",
    "    \"\"\"\n",
    "    X_fraud = X[y==1]\n",
    "    X_non_fraud = X[y==0]\n",
    "    \n",
    "    fraud_samples = len(X_fraud)\n",
    "    non_fraud_total = len(X_non_fraud)\n",
    "        \n",
    "    np.random.RandomState(seed=random_state)\n",
    "    non_fraud_indices = np.random.choice(non_fraud_total, int(fraud_samples*sample_factor), replace=False)\n",
    "    \n",
    "    X_no_undersampled = X_non_fraud[non_fraud_indices]\n",
    "    \n",
    "    X_undersampled = np.concatenate((X_fraud, X_no_undersampled))\n",
    "    y_undersampled = np.concatenate((np.ones(fraud_samples), np.zeros(len(X_no_undersampled))))\n",
    "    \n",
    "    if shuffled:\n",
    "        X_undersampled, y_undersampled = shuffle(X_undersampled, y_undersampled, random_state=random_state)\n",
    "    \n",
    "    return X_undersampled , y_undersampled  \n"
   ]
  },
  {
   "cell_type": "code",
   "execution_count": 10,
   "metadata": {
    "Collapsed": "false"
   },
   "outputs": [
    {
     "name": "stderr",
     "output_type": "stream",
     "text": [
      "100%|██████████████████████████████████████████████████████████████████████████████████| 10/10 [00:41<00:00,  4.18s/it]\n"
     ]
    }
   ],
   "source": [
    "skf = StratifiedKFold(n_splits=5, shuffle=True, random_state=12)\n",
    "\n",
    "sample_factors = [1, 1.5, 2, 4, 6, 9, 19, 39, 59, 79]\n",
    "\n",
    "results_table = pd.DataFrame(index=range(len(sample_factors)), columns=[\"sample_factors\", \"mAP\", \"mF1-score\", \"mRecall\", \"mPrecision\", \"AP_Fold_1\",\"AP_Fold_2\",\"AP_Fold_3\",\"AP_Fold_4\",\"AP_Fold_5\"])\n",
    "results_table[\"sample_factors\"] = sample_factors\n",
    "\n",
    "for i, factor in enumerate(tqdm(sample_factors)):\n",
    "    \n",
    "    APs = []\n",
    "    F_scores = []\n",
    "    Recall_scores = []\n",
    "    Precision_scores = []\n",
    "        \n",
    "    for fold_nr, (train_index, test_index) in enumerate(skf.split(X, y)):\n",
    "        \n",
    "        X_train, X_test = X[train_index], X[test_index]\n",
    "        y_train, y_test = y[train_index], y[test_index]\n",
    "        \n",
    "        model = LogisticRegression(max_iter=250)\n",
    "        \n",
    "        # we use RobustScaler which uses median and interquartile range instead of mean and std  \n",
    "        scaler = RobustScaler()\n",
    "        scaler.fit(X_train)\n",
    "        X_undersampled, y_undersampled = undersample(scaler.transform(X_train), y_train, sample_factor=factor, random_state=12)\n",
    "        \n",
    "        model.fit(X_undersampled, y_undersampled)\n",
    "        \n",
    "        scores = model.predict_proba(scaler.transform(X_test))[:,1]\n",
    "        ap = average_precision_score(y_test, scores)\n",
    "        f_score = f1_score(y_test, scores > 0.5)\n",
    "        recall = recall_score(y_test, scores > 0.5)\n",
    "        precision = precision_score(y_test, scores > 0.5)\n",
    "        APs.append(ap)\n",
    "        F_scores.append(f_score)\n",
    "        Recall_scores.append(recall)\n",
    "        Precision_scores.append(precision)\n",
    "        #print(ap)\n",
    "        results_table.loc[i, (\"AP_Fold_\"+str(1+fold_nr))] = ap\n",
    "    \n",
    "    mAP = np.mean(APs)\n",
    "    mF1 = np.mean(F_scores)\n",
    "    mRecall = np.mean(Recall_scores)\n",
    "    mPrecision = np.mean(Precision_scores)\n",
    "    \n",
    "    results_table.loc[i,\"mAP\"] = mAP\n",
    "    results_table.loc[i,\"mF1-score\"] = mF1\n",
    "    results_table.loc[i,\"mRecall\"] = mRecall\n",
    "    results_table.loc[i,\"mPrecision\"] = mPrecision"
   ]
  },
  {
   "cell_type": "code",
   "execution_count": 11,
   "metadata": {
    "Collapsed": "false"
   },
   "outputs": [
    {
     "data": {
      "text/html": [
       "<div>\n",
       "<style scoped>\n",
       "    .dataframe tbody tr th:only-of-type {\n",
       "        vertical-align: middle;\n",
       "    }\n",
       "\n",
       "    .dataframe tbody tr th {\n",
       "        vertical-align: top;\n",
       "    }\n",
       "\n",
       "    .dataframe thead th {\n",
       "        text-align: right;\n",
       "    }\n",
       "</style>\n",
       "<table border=\"1\" class=\"dataframe\">\n",
       "  <thead>\n",
       "    <tr style=\"text-align: right;\">\n",
       "      <th></th>\n",
       "      <th>sample_factors</th>\n",
       "      <th>mAP</th>\n",
       "      <th>mF1-score</th>\n",
       "      <th>mRecall</th>\n",
       "      <th>mPrecision</th>\n",
       "      <th>AP_Fold_1</th>\n",
       "      <th>AP_Fold_2</th>\n",
       "      <th>AP_Fold_3</th>\n",
       "      <th>AP_Fold_4</th>\n",
       "      <th>AP_Fold_5</th>\n",
       "    </tr>\n",
       "  </thead>\n",
       "  <tbody>\n",
       "    <tr>\n",
       "      <th>0</th>\n",
       "      <td>1.0</td>\n",
       "      <td>0.578576</td>\n",
       "      <td>0.0927839</td>\n",
       "      <td>0.906473</td>\n",
       "      <td>0.0491229</td>\n",
       "      <td>0.614807</td>\n",
       "      <td>0.738017</td>\n",
       "      <td>0.544067</td>\n",
       "      <td>0.559162</td>\n",
       "      <td>0.436826</td>\n",
       "    </tr>\n",
       "    <tr>\n",
       "      <th>1</th>\n",
       "      <td>1.5</td>\n",
       "      <td>0.630402</td>\n",
       "      <td>0.12072</td>\n",
       "      <td>0.900371</td>\n",
       "      <td>0.0647511</td>\n",
       "      <td>0.659236</td>\n",
       "      <td>0.614944</td>\n",
       "      <td>0.654665</td>\n",
       "      <td>0.592326</td>\n",
       "      <td>0.630839</td>\n",
       "    </tr>\n",
       "    <tr>\n",
       "      <th>2</th>\n",
       "      <td>2.0</td>\n",
       "      <td>0.679179</td>\n",
       "      <td>0.141569</td>\n",
       "      <td>0.900371</td>\n",
       "      <td>0.0769145</td>\n",
       "      <td>0.617569</td>\n",
       "      <td>0.71436</td>\n",
       "      <td>0.689964</td>\n",
       "      <td>0.623543</td>\n",
       "      <td>0.750457</td>\n",
       "    </tr>\n",
       "    <tr>\n",
       "      <th>3</th>\n",
       "      <td>4.0</td>\n",
       "      <td>0.710854</td>\n",
       "      <td>0.255259</td>\n",
       "      <td>0.880066</td>\n",
       "      <td>0.150331</td>\n",
       "      <td>0.769414</td>\n",
       "      <td>0.721917</td>\n",
       "      <td>0.722442</td>\n",
       "      <td>0.608388</td>\n",
       "      <td>0.73211</td>\n",
       "    </tr>\n",
       "    <tr>\n",
       "      <th>4</th>\n",
       "      <td>6.0</td>\n",
       "      <td>0.718339</td>\n",
       "      <td>0.366268</td>\n",
       "      <td>0.867821</td>\n",
       "      <td>0.232978</td>\n",
       "      <td>0.765665</td>\n",
       "      <td>0.73944</td>\n",
       "      <td>0.71805</td>\n",
       "      <td>0.641763</td>\n",
       "      <td>0.726775</td>\n",
       "    </tr>\n",
       "    <tr>\n",
       "      <th>5</th>\n",
       "      <td>9.0</td>\n",
       "      <td>0.716764</td>\n",
       "      <td>0.46934</td>\n",
       "      <td>0.857617</td>\n",
       "      <td>0.324107</td>\n",
       "      <td>0.766298</td>\n",
       "      <td>0.758189</td>\n",
       "      <td>0.672805</td>\n",
       "      <td>0.639796</td>\n",
       "      <td>0.746731</td>\n",
       "    </tr>\n",
       "    <tr>\n",
       "      <th>6</th>\n",
       "      <td>19.0</td>\n",
       "      <td>0.726322</td>\n",
       "      <td>0.653383</td>\n",
       "      <td>0.839353</td>\n",
       "      <td>0.537069</td>\n",
       "      <td>0.766752</td>\n",
       "      <td>0.768197</td>\n",
       "      <td>0.686763</td>\n",
       "      <td>0.658817</td>\n",
       "      <td>0.751082</td>\n",
       "    </tr>\n",
       "    <tr>\n",
       "      <th>7</th>\n",
       "      <td>39.0</td>\n",
       "      <td>0.741127</td>\n",
       "      <td>0.728055</td>\n",
       "      <td>0.806782</td>\n",
       "      <td>0.663614</td>\n",
       "      <td>0.74581</td>\n",
       "      <td>0.8031</td>\n",
       "      <td>0.698506</td>\n",
       "      <td>0.696179</td>\n",
       "      <td>0.762039</td>\n",
       "    </tr>\n",
       "    <tr>\n",
       "      <th>8</th>\n",
       "      <td>59.0</td>\n",
       "      <td>0.758491</td>\n",
       "      <td>0.782599</td>\n",
       "      <td>0.810884</td>\n",
       "      <td>0.756762</td>\n",
       "      <td>0.78093</td>\n",
       "      <td>0.809424</td>\n",
       "      <td>0.733112</td>\n",
       "      <td>0.695433</td>\n",
       "      <td>0.773555</td>\n",
       "    </tr>\n",
       "    <tr>\n",
       "      <th>9</th>\n",
       "      <td>79.0</td>\n",
       "      <td>0.755639</td>\n",
       "      <td>0.774687</td>\n",
       "      <td>0.798701</td>\n",
       "      <td>0.752713</td>\n",
       "      <td>0.76724</td>\n",
       "      <td>0.806616</td>\n",
       "      <td>0.724256</td>\n",
       "      <td>0.701748</td>\n",
       "      <td>0.778335</td>\n",
       "    </tr>\n",
       "  </tbody>\n",
       "</table>\n",
       "</div>"
      ],
      "text/plain": [
       "   sample_factors       mAP  mF1-score   mRecall mPrecision AP_Fold_1  \\\n",
       "0             1.0  0.578576  0.0927839  0.906473  0.0491229  0.614807   \n",
       "1             1.5  0.630402    0.12072  0.900371  0.0647511  0.659236   \n",
       "2             2.0  0.679179   0.141569  0.900371  0.0769145  0.617569   \n",
       "3             4.0  0.710854   0.255259  0.880066   0.150331  0.769414   \n",
       "4             6.0  0.718339   0.366268  0.867821   0.232978  0.765665   \n",
       "5             9.0  0.716764    0.46934  0.857617   0.324107  0.766298   \n",
       "6            19.0  0.726322   0.653383  0.839353   0.537069  0.766752   \n",
       "7            39.0  0.741127   0.728055  0.806782   0.663614   0.74581   \n",
       "8            59.0  0.758491   0.782599  0.810884   0.756762   0.78093   \n",
       "9            79.0  0.755639   0.774687  0.798701   0.752713   0.76724   \n",
       "\n",
       "  AP_Fold_2 AP_Fold_3 AP_Fold_4 AP_Fold_5  \n",
       "0  0.738017  0.544067  0.559162  0.436826  \n",
       "1  0.614944  0.654665  0.592326  0.630839  \n",
       "2   0.71436  0.689964  0.623543  0.750457  \n",
       "3  0.721917  0.722442  0.608388   0.73211  \n",
       "4   0.73944   0.71805  0.641763  0.726775  \n",
       "5  0.758189  0.672805  0.639796  0.746731  \n",
       "6  0.768197  0.686763  0.658817  0.751082  \n",
       "7    0.8031  0.698506  0.696179  0.762039  \n",
       "8  0.809424  0.733112  0.695433  0.773555  \n",
       "9  0.806616  0.724256  0.701748  0.778335  "
      ]
     },
     "execution_count": 11,
     "metadata": {},
     "output_type": "execute_result"
    }
   ],
   "source": [
    "results_table"
   ]
  },
  {
   "cell_type": "markdown",
   "metadata": {
    "Collapsed": "false"
   },
   "source": [
    "- We can see that undersampling is a valid strategy for dealing with highly imbalanced data.\n",
    "- As the amount of non-fraudulent samples increases recall drops and average precision increases\n",
    "- The sample factor 79 performs best (regarding AP), however worse than the classifier trained using class weights in both AP and recall\n",
    "- A big advantage of undersampling compared to using class weights is that training is much faster, due to the much smaller training set\n",
    "\n",
    "Let's again take a closer look at the classifier at fold 5"
   ]
  },
  {
   "cell_type": "code",
   "execution_count": 12,
   "metadata": {
    "Collapsed": "false"
   },
   "outputs": [],
   "source": [
    "train_idx, test_idx = list(skf.split(X,y))[4]\n",
    "X_train, X_test = X[train_index], X[test_index]\n",
    "y_train, y_test = y[train_index], y[test_index]\n",
    "\n",
    "model = LogisticRegression(max_iter=250)\n",
    "\n",
    "# we use RobustScaler which uses median and interquartile range instead of mean and std  \n",
    "scaler = RobustScaler()\n",
    "scaler.fit(X_train)\n",
    "X_undersampled, y_undersampled = undersample(scaler.transform(X_train), y_train, sample_factor=79, random_state=12)\n",
    "\n",
    "model.fit(X_undersampled, y_undersampled)\n",
    "\n",
    "scores = model.predict_proba(scaler.transform(X_test))[:,1]"
   ]
  },
  {
   "cell_type": "code",
   "execution_count": 13,
   "metadata": {
    "Collapsed": "false"
   },
   "outputs": [
    {
     "data": {
      "image/png": "[encoded data removed]",
      "text/plain": [
       "<Figure size 432x288 with 1 Axes>"
      ]
     },
     "metadata": {
      "needs_background": "light"
     },
     "output_type": "display_data"
    },
    {
     "data": {
      "image/png": "[encoded data removed]",
      "text/plain": [
       "<Figure size 432x288 with 2 Axes>"
      ]
     },
     "metadata": {
      "needs_background": "light"
     },
     "output_type": "display_data"
    },
    {
     "name": "stdout",
     "output_type": "stream",
     "text": [
      "---Classification Report---\n",
      "              precision    recall  f1-score   support\n",
      "\n",
      "           0       1.00      1.00      1.00     56863\n",
      "           1       0.80      0.84      0.82        98\n",
      "\n",
      "    accuracy                           1.00     56961\n",
      "   macro avg       0.90      0.92      0.91     56961\n",
      "weighted avg       1.00      1.00      1.00     56961\n",
      "\n"
     ]
    }
   ],
   "source": [
    "draw_pr_curve(y_test, scores)\n",
    "draw_confusion_matrix(y_test, scores > 0.5)"
   ]
  },
  {
   "cell_type": "markdown",
   "metadata": {
    "Collapsed": "false"
   },
   "source": [
    "### Outlier Removal\n",
    "\n",
    "During EDA we noticed there is quite an amount of outliers in our features.\n",
    "\n",
    "Removing them **might** help with training a better model. However just generally dropping outliers may not be good idea, since the data set is heavily imbalanced and being an outlier might be characteristic for the sought after fraud cases. Therefore we will only remove some outliers from the training sets for non-fraudulent samples. \n"
   ]
  },
  {
   "cell_type": "code",
   "execution_count": 23,
   "metadata": {
    "Collapsed": "false"
   },
   "outputs": [],
   "source": [
    "corr_features = [\"V1\", \"V2\", \"V3\",  \"V4\",  \"V5\",  \"V7\",  \"V9\", \"V10\",  \"V11\", \"V12\", \"V14\", \"V16\", \"V17\", \"V18\"]\n",
    "def outlier_removal(X, y=None, cols=corr_features, label_col=\"Class\", iqr_factor=1.5, verbose=False):\n",
    "    \n",
    "    if y is not None:\n",
    "        non_frauds = X[cols].loc[y==0]\n",
    "    else:\n",
    "        non_frauds = X[cols].loc[X[label_col]==0]\n",
    "        \n",
    "    q25 = non_frauds.quantile(0.25)\n",
    "    q75 = non_frauds.quantile(0.75)\n",
    "    \n",
    "    iqr = q75 - q25\n",
    "    cut_off = iqr*iqr_factor\n",
    "    \n",
    "    lower_cut_off = q25 - cut_off\n",
    "    upper_cut_off = q75 + cut_off\n",
    "    \n",
    "    outlier_values = (non_frauds < lower_cut_off)|(non_frauds > upper_cut_off) # this is a data frame filled with True/False\n",
    "    outlier_rows = outlier_values.any(axis=1) # series filled with bools indicating outliers\n",
    "    \n",
    "    outlier_ids = non_frauds[outlier_rows].index\n",
    "    \n",
    "    if verbose:\n",
    "        print(f\"Removed {len(outlier_ids)} outliers from {len(X)} original samples.\")\n",
    "    \n",
    "    if y is not None:\n",
    "        return X.drop(index=outlier_ids), y.drop(index=outlier_ids)\n",
    "    \n",
    "    else:\n",
    "        return X.drop(index=outlier_ids)\n"
   ]
  },
  {
   "cell_type": "markdown",
   "metadata": {
    "Collapsed": "false"
   },
   "source": [
    "Let's take a look at the box plots of the correlated features from EDA again, but this time with the outliers removed."
   ]
  },
  {
   "cell_type": "code",
   "execution_count": 63,
   "metadata": {
    "Collapsed": "false"
   },
   "outputs": [
    {
     "name": "stdout",
     "output_type": "stream",
     "text": [
      "Removed 11086 outliers from 284807 original samples.\n"
     ]
    },
    {
     "data": {
      "image/png": "[encoded data removed]",
      "text/plain": [
       "<Figure size 1080x1800 with 14 Axes>"
      ]
     },
     "metadata": {
      "needs_background": "light"
     },
     "output_type": "display_data"
    }
   ],
   "source": [
    "cleaned_df = outlier_removal(df, cols=corr_features, verbose=True, iqr_factor=3)\n",
    "f, axs = plt.subplots(nrows=7, ncols=2, figsize=(15,25))\n",
    "for ax,feat in zip(axs.reshape(-1),corr_features):\n",
    "    sns.boxplot(x=cleaned_df.Class, y=df[feat], ax=ax)\n",
    "    #ax.set_title(feat)\n",
    "f.suptitle(\"Correlated features vs Class label (outliers removed)\", fontsize=18)\n",
    "plt.subplots_adjust(top=0.96)\n",
    "plt.show()"
   ]
  },
  {
   "cell_type": "markdown",
   "metadata": {
    "Collapsed": "false"
   },
   "source": [
    "#### Train a model on data with removed outliers"
   ]
  },
  {
   "cell_type": "code",
   "execution_count": 64,
   "metadata": {
    "Collapsed": "false"
   },
   "outputs": [],
   "source": [
    "X = df.drop(columns=[\"Class\"])\n",
    "# use TimeTag (from EDA) instead of normal time\n",
    "TimeTag = (X[\"Time\"]/3600)%24\n",
    "X[\"Time\"] = np.array((TimeTag < 6) , dtype=np.int8) \n",
    "y = df.Class.copy()\n"
   ]
  },
  {
   "cell_type": "code",
   "execution_count": 65,
   "metadata": {
    "Collapsed": "false"
   },
   "outputs": [
    {
     "name": "stderr",
     "output_type": "stream",
     "text": [
      "  0%|                                                                                            | 0/5 [00:00<?, ?it/s]\n",
      "0it [00:00, ?it/s]\u001b[A\n",
      "1it [00:03,  3.33s/it]\u001b[A\n",
      "2it [00:06,  3.41s/it]\u001b[A\n",
      "3it [00:10,  3.43s/it]\u001b[A\n",
      "4it [00:14,  3.51s/it]\u001b[A\n",
      "5it [00:18,  3.65s/it]\u001b[A\n",
      " 20%|████████████████▊                                                                   | 1/5 [00:18<01:12, 18.25s/it]\n",
      "0it [00:00, ?it/s]\u001b[A\n",
      "1it [00:05,  5.18s/it]\u001b[A\n",
      "2it [00:09,  4.91s/it]\u001b[A\n",
      "3it [00:14,  4.86s/it]\u001b[A\n",
      "4it [00:20,  5.19s/it]\u001b[A\n",
      "5it [00:25,  5.11s/it]\u001b[A\n",
      " 40%|█████████████████████████████████▌                                                  | 2/5 [00:43<01:01, 20.43s/it]\n",
      "0it [00:00, ?it/s]\u001b[A\n",
      "1it [00:06,  6.42s/it]\u001b[A\n",
      "2it [00:12,  6.40s/it]\u001b[A\n",
      "3it [00:19,  6.47s/it]\u001b[A\n",
      "4it [00:26,  6.74s/it]\u001b[A\n",
      "5it [00:31,  6.34s/it]\u001b[A\n",
      " 60%|██████████████████████████████████████████████████▍                                 | 3/5 [01:15<00:47, 23.82s/it]\n",
      "0it [00:00, ?it/s]\u001b[A\n",
      "1it [00:07,  7.95s/it]\u001b[A\n",
      "2it [00:15,  7.73s/it]\u001b[A\n",
      "3it [00:25,  8.49s/it]\u001b[A\n",
      "4it [00:30,  7.61s/it]\u001b[A\n",
      "5it [00:36,  7.21s/it]\u001b[A\n",
      " 80%|███████████████████████████████████████████████████████████████████▏                | 4/5 [01:51<00:27, 27.50s/it]\n",
      "0it [00:00, ?it/s]\u001b[A\n",
      "1it [00:10, 10.40s/it]\u001b[A\n",
      "2it [00:18,  9.76s/it]\u001b[A\n",
      "3it [00:28,  9.85s/it]\u001b[A\n",
      "4it [00:36,  9.29s/it]\u001b[AD:\\Anaconda\\envs\\kaggle\\lib\\site-packages\\sklearn\\linear_model\\_logistic.py:939: ConvergenceWarning: lbfgs failed to converge (status=1):\n",
      "STOP: TOTAL NO. of ITERATIONS REACHED LIMIT.\n",
      "\n",
      "Increase the number of iterations (max_iter) or scale the data as shown in:\n",
      "    https://scikit-learn.org/stable/modules/preprocessing.html.\n",
      "Please also refer to the documentation for alternative solver options:\n",
      "    https://scikit-learn.org/stable/modules/linear_model.html#logistic-regression\n",
      "  extra_warning_msg=_LOGISTIC_SOLVER_CONVERGENCE_MSG)\n",
      "\n",
      "5it [00:47,  9.52s/it]\u001b[A\n",
      "100%|████████████████████████████████████████████████████████████████████████████████████| 5/5 [02:39<00:00, 31.84s/it]\n"
     ]
    }
   ],
   "source": [
    "skf = StratifiedKFold(n_splits=5, shuffle=True, random_state=12)\n",
    "\n",
    "weights = [1, 10, 20, 50, 100]\n",
    "\n",
    "results_table = pd.DataFrame(index=range(len(weights)), columns=[\"class_weight\", \"mAP\", \"mF1-score\", \"mRecall\", \"mPrecision\", \"\", \"AP_Fold_1\",\"AP_Fold_2\",\"AP_Fold_3\",\"AP_Fold_4\",\"AP_Fold_5\"])\n",
    "results_table[\"class_weight\"] = weights\n",
    "\n",
    "for i, weight in enumerate(tqdm(weights)):\n",
    "    \n",
    "    APs = []\n",
    "    F_scores = []\n",
    "    Recall_scores = []\n",
    "    Precision_scores = []\n",
    "        \n",
    "    for fold_nr, (train_index, test_index) in enumerate(tqdm(skf.split(X, y))):\n",
    "        \n",
    "        X_train, X_test = X.iloc[train_index], X.iloc[test_index]\n",
    "        y_train, y_test = y.iloc[train_index], y.iloc[test_index]\n",
    "        \n",
    "        X_train, y_train = outlier_removal(X_train, y=y_train, iqr_factor=3)\n",
    "        \n",
    "        model = LogisticRegression(class_weight={0:1,1:weight}, max_iter=350)\n",
    "        \n",
    "        # we use RobustScaler which uses median and interquartile range instead of mean and std  \n",
    "        scaler = RobustScaler()\n",
    "        scaler.fit(X_train)\n",
    "        \n",
    "        model.fit(scaler.transform(X_train), y_train)\n",
    "        \n",
    "        scores = model.predict_proba(scaler.transform(X_test))[:,1]\n",
    "        ap = average_precision_score(y_test, scores)\n",
    "        f_score = f1_score(y_test, scores > 0.5)\n",
    "        recall = recall_score(y_test, scores > 0.5)\n",
    "        precision = precision_score(y_test, scores > 0.5)\n",
    "        APs.append(ap)\n",
    "        F_scores.append(f_score)\n",
    "        Recall_scores.append(recall)\n",
    "        Precision_scores.append(precision)\n",
    "        #print(ap)\n",
    "        results_table.loc[i, (\"AP_Fold_\"+str(1+fold_nr))] = ap\n",
    "    \n",
    "    mAP = np.mean(APs)\n",
    "    mF1 = np.mean(F_scores)\n",
    "    mRecall = np.mean(Recall_scores)\n",
    "    mPrecision = np.mean(Precision_scores)\n",
    "    \n",
    "    results_table.loc[i,\"mAP\"] = mAP\n",
    "    results_table.loc[i,\"mF1-score\"] = mF1\n",
    "    results_table.loc[i,\"mRecall\"] = mRecall\n",
    "    results_table.loc[i,\"mPrecision\"] = mPrecision"
   ]
  },
  {
   "cell_type": "code",
   "execution_count": 66,
   "metadata": {
    "Collapsed": "false"
   },
   "outputs": [
    {
     "data": {
      "text/html": [
       "<div>\n",
       "<style scoped>\n",
       "    .dataframe tbody tr th:only-of-type {\n",
       "        vertical-align: middle;\n",
       "    }\n",
       "\n",
       "    .dataframe tbody tr th {\n",
       "        vertical-align: top;\n",
       "    }\n",
       "\n",
       "    .dataframe thead th {\n",
       "        text-align: right;\n",
       "    }\n",
       "</style>\n",
       "<table border=\"1\" class=\"dataframe\">\n",
       "  <thead>\n",
       "    <tr style=\"text-align: right;\">\n",
       "      <th></th>\n",
       "      <th>class_weight</th>\n",
       "      <th>mAP</th>\n",
       "      <th>mF1-score</th>\n",
       "      <th>mRecall</th>\n",
       "      <th>mPrecision</th>\n",
       "      <th></th>\n",
       "      <th>AP_Fold_1</th>\n",
       "      <th>AP_Fold_2</th>\n",
       "      <th>AP_Fold_3</th>\n",
       "      <th>AP_Fold_4</th>\n",
       "      <th>AP_Fold_5</th>\n",
       "    </tr>\n",
       "  </thead>\n",
       "  <tbody>\n",
       "    <tr>\n",
       "      <th>0</th>\n",
       "      <td>1</td>\n",
       "      <td>0.70032</td>\n",
       "      <td>0.601027</td>\n",
       "      <td>0.825149</td>\n",
       "      <td>0.473161</td>\n",
       "      <td>NaN</td>\n",
       "      <td>0.710425</td>\n",
       "      <td>0.755833</td>\n",
       "      <td>0.700063</td>\n",
       "      <td>0.615425</td>\n",
       "      <td>0.719856</td>\n",
       "    </tr>\n",
       "    <tr>\n",
       "      <th>1</th>\n",
       "      <td>10</td>\n",
       "      <td>0.726154</td>\n",
       "      <td>0.482249</td>\n",
       "      <td>0.855617</td>\n",
       "      <td>0.336113</td>\n",
       "      <td>NaN</td>\n",
       "      <td>0.749483</td>\n",
       "      <td>0.786653</td>\n",
       "      <td>0.71786</td>\n",
       "      <td>0.636882</td>\n",
       "      <td>0.739891</td>\n",
       "    </tr>\n",
       "    <tr>\n",
       "      <th>2</th>\n",
       "      <td>20</td>\n",
       "      <td>0.724095</td>\n",
       "      <td>0.400843</td>\n",
       "      <td>0.859678</td>\n",
       "      <td>0.26154</td>\n",
       "      <td>NaN</td>\n",
       "      <td>0.734406</td>\n",
       "      <td>0.777851</td>\n",
       "      <td>0.727489</td>\n",
       "      <td>0.642894</td>\n",
       "      <td>0.737837</td>\n",
       "    </tr>\n",
       "    <tr>\n",
       "      <th>3</th>\n",
       "      <td>50</td>\n",
       "      <td>0.709379</td>\n",
       "      <td>0.276021</td>\n",
       "      <td>0.869821</td>\n",
       "      <td>0.164085</td>\n",
       "      <td>NaN</td>\n",
       "      <td>0.713696</td>\n",
       "      <td>0.732462</td>\n",
       "      <td>0.719364</td>\n",
       "      <td>0.639763</td>\n",
       "      <td>0.741612</td>\n",
       "    </tr>\n",
       "    <tr>\n",
       "      <th>4</th>\n",
       "      <td>100</td>\n",
       "      <td>0.696451</td>\n",
       "      <td>0.21471</td>\n",
       "      <td>0.886106</td>\n",
       "      <td>0.12218</td>\n",
       "      <td>NaN</td>\n",
       "      <td>0.691967</td>\n",
       "      <td>0.724614</td>\n",
       "      <td>0.69834</td>\n",
       "      <td>0.631149</td>\n",
       "      <td>0.736187</td>\n",
       "    </tr>\n",
       "  </tbody>\n",
       "</table>\n",
       "</div>"
      ],
      "text/plain": [
       "   class_weight       mAP mF1-score   mRecall mPrecision      AP_Fold_1  \\\n",
       "0             1   0.70032  0.601027  0.825149   0.473161  NaN  0.710425   \n",
       "1            10  0.726154  0.482249  0.855617   0.336113  NaN  0.749483   \n",
       "2            20  0.724095  0.400843  0.859678    0.26154  NaN  0.734406   \n",
       "3            50  0.709379  0.276021  0.869821   0.164085  NaN  0.713696   \n",
       "4           100  0.696451   0.21471  0.886106    0.12218  NaN  0.691967   \n",
       "\n",
       "  AP_Fold_2 AP_Fold_3 AP_Fold_4 AP_Fold_5  \n",
       "0  0.755833  0.700063  0.615425  0.719856  \n",
       "1  0.786653   0.71786  0.636882  0.739891  \n",
       "2  0.777851  0.727489  0.642894  0.737837  \n",
       "3  0.732462  0.719364  0.639763  0.741612  \n",
       "4  0.724614   0.69834  0.631149  0.736187  "
      ]
     },
     "execution_count": 66,
     "metadata": {},
     "output_type": "execute_result"
    }
   ],
   "source": [
    "results_table"
   ]
  },
  {
   "cell_type": "markdown",
   "metadata": {
    "Collapsed": "false"
   },
   "source": [
    "As we can see removing outliers from non-fraud samples during training does not improve performance of the model. "
   ]
  },
  {
   "cell_type": "markdown",
   "metadata": {
    "Collapsed": "false"
   },
   "source": [
    "## Decision Trees"
   ]
  },
  {
   "cell_type": "markdown",
   "metadata": {
    "Collapsed": "false"
   },
   "source": [
    "In this section we'll test the performance of Random Forrest classifiers on our data by building a pipeline and performing grid search.  "
   ]
  },
  {
   "cell_type": "code",
   "execution_count": 9,
   "metadata": {
    "Collapsed": "false"
   },
   "outputs": [],
   "source": [
    "from sklearn.ensemble import RandomForestClassifier\n",
    "from sklearn.pipeline import Pipeline\n",
    "from sklearn.model_selection import GridSearchCV"
   ]
  },
  {
   "cell_type": "code",
   "execution_count": 17,
   "metadata": {
    "Collapsed": "false"
   },
   "outputs": [],
   "source": [
    "X = df.drop(columns=[\"Class\"])\n",
    "y = df[\"Class\"].values\n",
    "X = replace_time(X, tag=True)"
   ]
  },
  {
   "cell_type": "code",
   "execution_count": 18,
   "metadata": {
    "Collapsed": "false"
   },
   "outputs": [],
   "source": [
    "pipe = Pipeline([(\"Robust Scaler\", RobustScaler()),\n",
    "                 (\"clf\", RandomForestClassifier(n_estimators=20))\n",
    "                ])"
   ]
  },
  {
   "cell_type": "code",
   "execution_count": 19,
   "metadata": {
    "Collapsed": "false"
   },
   "outputs": [],
   "source": [
    "param_grid = {\"clf__class_weight\": [{0:1,1:1}, {0:1,1:10}, {0:1,1:25}, {0:1,1:50}], \"clf__max_depth\": [5, 8]}"
   ]
  },
  {
   "cell_type": "code",
   "execution_count": 20,
   "metadata": {
    "Collapsed": "false"
   },
   "outputs": [],
   "source": [
    "scoring = [\"average_precision\", \"f1\", \"recall\", \"precision\"]\n",
    "gs = GridSearchCV(pipe, param_grid, cv=5, n_jobs=7, scoring=scoring, refit=\"average_precision\")"
   ]
  },
  {
   "cell_type": "code",
   "execution_count": 21,
   "metadata": {
    "Collapsed": "false"
   },
   "outputs": [
    {
     "data": {
      "text/plain": [
       "GridSearchCV(cv=5, error_score=nan,\n",
       "             estimator=Pipeline(memory=None,\n",
       "                                steps=[('Robust Scaler',\n",
       "                                        RobustScaler(copy=True,\n",
       "                                                     quantile_range=(25.0,\n",
       "                                                                     75.0),\n",
       "                                                     with_centering=True,\n",
       "                                                     with_scaling=True)),\n",
       "                                       ('clf',\n",
       "                                        RandomForestClassifier(bootstrap=True,\n",
       "                                                               ccp_alpha=0.0,\n",
       "                                                               class_weight=None,\n",
       "                                                               criterion='gini',\n",
       "                                                               max_depth=None,\n",
       "                                                               max_features='auto',\n",
       "                                                               max_leaf_nodes=None,\n",
       "                                                               max_samples=None,\n",
       "                                                               min_im...\n",
       "                                                               n_jobs=None,\n",
       "                                                               oob_score=False,\n",
       "                                                               random_state=None,\n",
       "                                                               verbose=0,\n",
       "                                                               warm_start=False))],\n",
       "                                verbose=False),\n",
       "             iid='deprecated', n_jobs=7,\n",
       "             param_grid={'clf__class_weight': [{0: 1, 1: 1}, {0: 1, 1: 10},\n",
       "                                               {0: 1, 1: 25}, {0: 1, 1: 50}],\n",
       "                         'clf__max_depth': [5, 8]},\n",
       "             pre_dispatch='2*n_jobs', refit='average_precision',\n",
       "             return_train_score=False,\n",
       "             scoring=['average_precision', 'f1', 'recall', 'precision'],\n",
       "             verbose=0)"
      ]
     },
     "execution_count": 21,
     "metadata": {},
     "output_type": "execute_result"
    }
   ],
   "source": [
    "gs.fit(X,y)"
   ]
  },
  {
   "cell_type": "code",
   "execution_count": 22,
   "metadata": {
    "Collapsed": "false"
   },
   "outputs": [
    {
     "data": {
      "text/html": [
       "<div>\n",
       "<style scoped>\n",
       "    .dataframe tbody tr th:only-of-type {\n",
       "        vertical-align: middle;\n",
       "    }\n",
       "\n",
       "    .dataframe tbody tr th {\n",
       "        vertical-align: top;\n",
       "    }\n",
       "\n",
       "    .dataframe thead th {\n",
       "        text-align: right;\n",
       "    }\n",
       "</style>\n",
       "<table border=\"1\" class=\"dataframe\">\n",
       "  <thead>\n",
       "    <tr style=\"text-align: right;\">\n",
       "      <th></th>\n",
       "      <th>class_weight</th>\n",
       "      <th>max_depth</th>\n",
       "      <th>average_precision</th>\n",
       "      <th>f1</th>\n",
       "      <th>recall</th>\n",
       "      <th>precision</th>\n",
       "    </tr>\n",
       "  </thead>\n",
       "  <tbody>\n",
       "    <tr>\n",
       "      <th>0</th>\n",
       "      <td>1</td>\n",
       "      <td>5</td>\n",
       "      <td>0.747153</td>\n",
       "      <td>0.774234</td>\n",
       "      <td>0.702886</td>\n",
       "      <td>0.892896</td>\n",
       "    </tr>\n",
       "    <tr>\n",
       "      <th>1</th>\n",
       "      <td>1</td>\n",
       "      <td>8</td>\n",
       "      <td>0.766020</td>\n",
       "      <td>0.797041</td>\n",
       "      <td>0.735560</td>\n",
       "      <td>0.891343</td>\n",
       "    </tr>\n",
       "    <tr>\n",
       "      <th>2</th>\n",
       "      <td>10</td>\n",
       "      <td>5</td>\n",
       "      <td>0.747767</td>\n",
       "      <td>0.806703</td>\n",
       "      <td>0.776149</td>\n",
       "      <td>0.853311</td>\n",
       "    </tr>\n",
       "    <tr>\n",
       "      <th>3</th>\n",
       "      <td>10</td>\n",
       "      <td>8</td>\n",
       "      <td>0.768162</td>\n",
       "      <td>0.797388</td>\n",
       "      <td>0.737415</td>\n",
       "      <td>0.889058</td>\n",
       "    </tr>\n",
       "    <tr>\n",
       "      <th>4</th>\n",
       "      <td>25</td>\n",
       "      <td>5</td>\n",
       "      <td>0.740899</td>\n",
       "      <td>0.811785</td>\n",
       "      <td>0.794434</td>\n",
       "      <td>0.842747</td>\n",
       "    </tr>\n",
       "    <tr>\n",
       "      <th>5</th>\n",
       "      <td>25</td>\n",
       "      <td>8</td>\n",
       "      <td>0.771136</td>\n",
       "      <td>0.822158</td>\n",
       "      <td>0.774088</td>\n",
       "      <td>0.890475</td>\n",
       "    </tr>\n",
       "    <tr>\n",
       "      <th>6</th>\n",
       "      <td>50</td>\n",
       "      <td>5</td>\n",
       "      <td>0.747370</td>\n",
       "      <td>0.806507</td>\n",
       "      <td>0.792373</td>\n",
       "      <td>0.831733</td>\n",
       "    </tr>\n",
       "    <tr>\n",
       "      <th>7</th>\n",
       "      <td>50</td>\n",
       "      <td>8</td>\n",
       "      <td>0.756878</td>\n",
       "      <td>0.808812</td>\n",
       "      <td>0.761884</td>\n",
       "      <td>0.877795</td>\n",
       "    </tr>\n",
       "  </tbody>\n",
       "</table>\n",
       "</div>"
      ],
      "text/plain": [
       "   class_weight max_depth  average_precision        f1    recall  precision\n",
       "0             1         5           0.747153  0.774234  0.702886   0.892896\n",
       "1             1         8           0.766020  0.797041  0.735560   0.891343\n",
       "2            10         5           0.747767  0.806703  0.776149   0.853311\n",
       "3            10         8           0.768162  0.797388  0.737415   0.889058\n",
       "4            25         5           0.740899  0.811785  0.794434   0.842747\n",
       "5            25         8           0.771136  0.822158  0.774088   0.890475\n",
       "6            50         5           0.747370  0.806507  0.792373   0.831733\n",
       "7            50         8           0.756878  0.808812  0.761884   0.877795"
      ]
     },
     "execution_count": 22,
     "metadata": {},
     "output_type": "execute_result"
    }
   ],
   "source": [
    "columns = [\"param_clf__class_weight\", \"param_clf__max_depth\"]+[\"mean_test_\" + scorer for scorer in scoring]\n",
    "results = pd.DataFrame(gs.cv_results_)[columns]\n",
    "weights = [c[1] for c in gs.cv_results_[\"param_clf__class_weight\"].compressed()]\n",
    "results = results.assign(param_clf__class_weight=weights)\n",
    "\n",
    "results.columns = [c.replace(\"param_clf__\", \"\").replace(\"mean_test_\",\"\") for c in results.columns]\n",
    "results"
   ]
  },
  {
   "cell_type": "code",
   "execution_count": 23,
   "metadata": {
    "Collapsed": "false"
   },
   "outputs": [
    {
     "data": {
      "image/png": "[encoded data removed]",
      "text/plain": [
       "<Figure size 1728x288 with 4 Axes>"
      ]
     },
     "metadata": {
      "needs_background": "light"
     },
     "output_type": "display_data"
    }
   ],
   "source": [
    "f,ax = plt.subplots(1,4, figsize=(24,4))\n",
    "\n",
    "sns.pointplot(x=\"class_weight\", y=\"average_precision\", hue=\"max_depth\", data=results, ax=ax[0])\n",
    "sns.pointplot(x=\"class_weight\", y=\"f1\", hue=\"max_depth\", data=results, ax=ax[1])\n",
    "sns.pointplot(x=\"class_weight\", y=\"recall\", hue=\"max_depth\", data=results, ax=ax[2])\n",
    "sns.pointplot(x=\"class_weight\", y=\"precision\", hue=\"max_depth\", data=results, ax=ax[3])\n",
    "plt.show()"
   ]
  },
  {
   "cell_type": "markdown",
   "metadata": {
    "Collapsed": "false"
   },
   "source": [
    "Random Forest classifiers tend to have better precision than logistic regression, however in our case recall is more important."
   ]
  }
 ],
 "metadata": {
  "kernelspec": {
   "display_name": "Python 3",
   "language": "python",
   "name": "python3"
  },
  "language_info": {
   "codemirror_mode": {
    "name": "ipython",
    "version": 3
   },
   "file_extension": ".py",
   "mimetype": "text/x-python",
   "name": "python",
   "nbconvert_exporter": "python",
   "pygments_lexer": "ipython3",
   "version": "3.6.9"
  }
 },
 "nbformat": 4,
 "nbformat_minor": 4
}
